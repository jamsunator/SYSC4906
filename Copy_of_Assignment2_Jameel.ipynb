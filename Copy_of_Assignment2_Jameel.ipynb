{
  "nbformat": 4,
  "nbformat_minor": 0,
  "metadata": {
    "colab": {
      "provenance": [],
      "machine_shape": "hm",
      "include_colab_link": true
    },
    "kernelspec": {
      "name": "python3",
      "display_name": "Python 3"
    },
    "language_info": {
      "name": "python"
    },
    "accelerator": "GPU",
    "gpuClass": "premium"
  },
  "cells": [
    {
      "cell_type": "markdown",
      "metadata": {
        "id": "view-in-github",
        "colab_type": "text"
      },
      "source": [
        "<a href=\"https://colab.research.google.com/github/jamsunator/SYSC4906/blob/master/Copy_of_Assignment2_Jameel.ipynb\" target=\"_parent\"><img src=\"https://colab.research.google.com/assets/colab-badge.svg\" alt=\"Open In Colab\"/></a>"
      ]
    },
    {
      "cell_type": "markdown",
      "source": [
        "# SYSC4415 - Assignment 2\n",
        "\n",
        "**TA: François Charih \\<francois@charih.ca\\>**\n",
        "\n",
        "**Deadline: March 19th, 2023 @ 11:59PM**\n",
        "\n",
        "## Learning objectives\n",
        "\n",
        "1. Fine-tune pre-trained CNN architectures for a custom image classification challenge.\n",
        "\n",
        "2. Evaluate the performance of machine learning models using different metrics (precision-recall curve, confusion matrices, *etc.*).\n",
        "\n",
        "3. Get hands-on experience with modern machine learning and plotting libraries.\n",
        "\n",
        "## Instructions\n",
        "\n",
        "1. Give yourself plenty of time to complete the assignment (it could take you up to 8-10 hours if you are unfamiliar with Python and machine learning libraries). The models should not take more than 1h to fine-tune (my full notebook runs from start to end in a little under 40 minutes. Coding will be the most time-consuming. ⚠️**Do not wait to the last minute.** ⚠️\n",
        "\n",
        "2. You must use the prescribed methods/functions/libraries mentioned, whenever specified. The functions you need are already imported for you in the appropriate sections. You can reorganize the imports and import the full packages instead of specific functions if you so desire. I imported the necessary functions for you so that they are ready to be invoked without have to specify the full path to the functions with the dot operator (i.e. so that you invoke `function()` instead of `package.module.function()`).\n",
        "\n",
        "3. Make sure to include comments for non-trivial code. It is okay to add some code cells, if you think it will give your code better readability/structure.\n",
        "\n",
        "4. If you are unsure about something, clearly state your assumptions and complete the question based off these assumptions.\n",
        "\n",
        "5. Be careful as you complete the assignment. There are several text-based questions to be answered in Markdown (text) cells. The questions are accompanied by the ❓ emoji. Your answers should be entered in the markdown cells with the 📝 emoji.\n",
        "\n",
        "6. Submit your Notebook as a `.ipynb` file that adopts this naming convention: *SYSC4415W23_A2_\\<First Name\\>_\\<Last Name\\>_\\<StudentID\\>.ipynb* on Brightspace. I should be able to run your code without errors.\n",
        "\n",
        "7. Make sure you enable a GPU accelerator (in Runtime > Change runtime type) starting at Part 4 and that your training code uses it. GPU resources are limited, so it is recommended not to use the accelerator for prior steps.\n",
        "\n",
        "8. All plots should be made with matplotlib and labeled properly (ie. include axis labels and legends).\n",
        "\n",
        "## Context\n",
        "\n",
        "It is 2030, and a new RNA virus named SARS-CoV-3 is wreaking havoc across the globe. Its death rate is estimated at 95%, making it one of the deadliest  respiratory viruses known to mankind. Fortunately, an Ottawa-based biotech company developed a nasally-delivered vaccine *Greenraza*™️ that can neutralize the virus in living patients. However, administrating the vaccine increases the risk of lung cancer by a whooping 60%. It is therefore vital that the drug be administered to infected patients only, not to patients infected with another respiratory virus such as the common cold or influenza. The virus cannot be detected through blood or breath analyses. It can only be detected by means of x-ray imaging.\n",
        "\n",
        "Having heard of your newly developed expertise in deep learning, you have been tasked by the Ottawa Hospital with the design of a machine learning model capable of distinguishing patients infected with SARS-CoV-3 from patients that have pneumonia and non-infected patients. Healthy patients can be discharged, while patients with pneumonia must be isolated, but without being given *Greenraza*™️."
      ],
      "metadata": {
        "id": "PGuAmMpysXXJ"
      }
    },
    {
      "cell_type": "markdown",
      "source": [
        "## Project initialization\n",
        "\n",
        "Run the cells below to set-up the notebook (ie. download the dataset) and install the required external libraries."
      ],
      "metadata": {
        "id": "c33I6cJzIn0O"
      }
    },
    {
      "cell_type": "code",
      "source": [
        "# RUN THIS (downloads the dataset)\n",
        "! rm -rf SYSC4415W23_A2_dataset SYSC4415W23_A2_dataset.zip\n",
        "! wget https://github.com/jrgreen7/SYSC4906/releases/download/Assignment2/SYSC4415W23_A2_dataset.zip && unzip SYSC4415W23_A2_dataset.zip"
      ],
      "metadata": {
        "id": "TEbQzpX8j7bQ"
      },
      "execution_count": null,
      "outputs": []
    },
    {
      "cell_type": "code",
      "source": [
        "# RUN THIS (installs external libraries)\n",
        "!pip install timm\n",
        "!pip install git+https://github.com/nottombrown/imagenet_stubs\n",
        "!pip install torchstat"
      ],
      "metadata": {
        "id": "NanqafBgkZFO"
      },
      "execution_count": null,
      "outputs": []
    },
    {
      "cell_type": "markdown",
      "source": [
        "## Part 1: Preparing the dataset\n",
        "\n",
        "The Ottawa Hospital has provided you with a dataset to develop your model. The dataset is available here. The dataset contains a folder containing a spreadsheet with metadata for each image in the dataset and a subfolder containing the 200x200 images (with random filenames)."
      ],
      "metadata": {
        "id": "q1XKrzDrs11o"
      }
    },
    {
      "cell_type": "code",
      "source": [
        "from pandas import read_csv\n",
        "from matplotlib.pyplot import bar, xlabel, ylabel, title"
      ],
      "metadata": {
        "id": "cLf1gprJKQ1v"
      },
      "execution_count": null,
      "outputs": []
    },
    {
      "cell_type": "markdown",
      "source": [
        "**Step 1:** Using pandas' `read_csv` function, load the dataframe containing the image metadata (`dataset_metadata.csv`)."
      ],
      "metadata": {
        "id": "QHTpQfihKSsY"
      }
    },
    {
      "cell_type": "code",
      "source": [
        "# Loads the image metadata into a pandas dataframe\n",
        "\n",
        "# YOUR CODE HERE\n",
        "\n",
        "image_data = read_csv(\"SYSC4415W23_A2_dataset/dataset_metadata.csv\")"
      ],
      "metadata": {
        "id": "1qhfruYusvHF"
      },
      "execution_count": null,
      "outputs": []
    },
    {
      "cell_type": "markdown",
      "source": [
        "**Step 2:** Use the `head` method to print the top five rows of the dataframe."
      ],
      "metadata": {
        "id": "btf3Q-VK_o1S"
      }
    },
    {
      "cell_type": "code",
      "source": [
        "# Prints the top five rows in the dataset\n",
        "\n",
        "# YOUR CODE HERE\n",
        "image_data.head()"
      ],
      "metadata": {
        "id": "SkWvyTpjn8pE",
        "colab": {
          "base_uri": "https://localhost:8080/",
          "height": 206
        },
        "outputId": "c8faa45c-0056-43c2-d119-0307d61e8992"
      },
      "execution_count": null,
      "outputs": [
        {
          "output_type": "execute_result",
          "data": {
            "text/plain": [
              "          filename     split            xray_date  height  width   label\n",
              "0   272_normal.jpg  training  2030-11-18 06:50:42     200    200  normal\n",
              "1   788_normal.jpg  training  2030-06-20 21:32:45     200    200  normal\n",
              "2   622_normal.jpg  training  2030-07-12 06:56:19     200    200  normal\n",
              "3  1138_normal.jpg  training  2030-03-15 13:52:16     200    200  normal\n",
              "4  1568_normal.jpg  training  2030-12-22 22:09:18     200    200  normal"
            ],
            "text/html": [
              "\n",
              "  <div id=\"df-23494b8a-09ef-4045-8adb-7d3f1f4db46f\">\n",
              "    <div class=\"colab-df-container\">\n",
              "      <div>\n",
              "<style scoped>\n",
              "    .dataframe tbody tr th:only-of-type {\n",
              "        vertical-align: middle;\n",
              "    }\n",
              "\n",
              "    .dataframe tbody tr th {\n",
              "        vertical-align: top;\n",
              "    }\n",
              "\n",
              "    .dataframe thead th {\n",
              "        text-align: right;\n",
              "    }\n",
              "</style>\n",
              "<table border=\"1\" class=\"dataframe\">\n",
              "  <thead>\n",
              "    <tr style=\"text-align: right;\">\n",
              "      <th></th>\n",
              "      <th>filename</th>\n",
              "      <th>split</th>\n",
              "      <th>xray_date</th>\n",
              "      <th>height</th>\n",
              "      <th>width</th>\n",
              "      <th>label</th>\n",
              "    </tr>\n",
              "  </thead>\n",
              "  <tbody>\n",
              "    <tr>\n",
              "      <th>0</th>\n",
              "      <td>272_normal.jpg</td>\n",
              "      <td>training</td>\n",
              "      <td>2030-11-18 06:50:42</td>\n",
              "      <td>200</td>\n",
              "      <td>200</td>\n",
              "      <td>normal</td>\n",
              "    </tr>\n",
              "    <tr>\n",
              "      <th>1</th>\n",
              "      <td>788_normal.jpg</td>\n",
              "      <td>training</td>\n",
              "      <td>2030-06-20 21:32:45</td>\n",
              "      <td>200</td>\n",
              "      <td>200</td>\n",
              "      <td>normal</td>\n",
              "    </tr>\n",
              "    <tr>\n",
              "      <th>2</th>\n",
              "      <td>622_normal.jpg</td>\n",
              "      <td>training</td>\n",
              "      <td>2030-07-12 06:56:19</td>\n",
              "      <td>200</td>\n",
              "      <td>200</td>\n",
              "      <td>normal</td>\n",
              "    </tr>\n",
              "    <tr>\n",
              "      <th>3</th>\n",
              "      <td>1138_normal.jpg</td>\n",
              "      <td>training</td>\n",
              "      <td>2030-03-15 13:52:16</td>\n",
              "      <td>200</td>\n",
              "      <td>200</td>\n",
              "      <td>normal</td>\n",
              "    </tr>\n",
              "    <tr>\n",
              "      <th>4</th>\n",
              "      <td>1568_normal.jpg</td>\n",
              "      <td>training</td>\n",
              "      <td>2030-12-22 22:09:18</td>\n",
              "      <td>200</td>\n",
              "      <td>200</td>\n",
              "      <td>normal</td>\n",
              "    </tr>\n",
              "  </tbody>\n",
              "</table>\n",
              "</div>\n",
              "      <button class=\"colab-df-convert\" onclick=\"convertToInteractive('df-23494b8a-09ef-4045-8adb-7d3f1f4db46f')\"\n",
              "              title=\"Convert this dataframe to an interactive table.\"\n",
              "              style=\"display:none;\">\n",
              "        \n",
              "  <svg xmlns=\"http://www.w3.org/2000/svg\" height=\"24px\"viewBox=\"0 0 24 24\"\n",
              "       width=\"24px\">\n",
              "    <path d=\"M0 0h24v24H0V0z\" fill=\"none\"/>\n",
              "    <path d=\"M18.56 5.44l.94 2.06.94-2.06 2.06-.94-2.06-.94-.94-2.06-.94 2.06-2.06.94zm-11 1L8.5 8.5l.94-2.06 2.06-.94-2.06-.94L8.5 2.5l-.94 2.06-2.06.94zm10 10l.94 2.06.94-2.06 2.06-.94-2.06-.94-.94-2.06-.94 2.06-2.06.94z\"/><path d=\"M17.41 7.96l-1.37-1.37c-.4-.4-.92-.59-1.43-.59-.52 0-1.04.2-1.43.59L10.3 9.45l-7.72 7.72c-.78.78-.78 2.05 0 2.83L4 21.41c.39.39.9.59 1.41.59.51 0 1.02-.2 1.41-.59l7.78-7.78 2.81-2.81c.8-.78.8-2.07 0-2.86zM5.41 20L4 18.59l7.72-7.72 1.47 1.35L5.41 20z\"/>\n",
              "  </svg>\n",
              "      </button>\n",
              "      \n",
              "  <style>\n",
              "    .colab-df-container {\n",
              "      display:flex;\n",
              "      flex-wrap:wrap;\n",
              "      gap: 12px;\n",
              "    }\n",
              "\n",
              "    .colab-df-convert {\n",
              "      background-color: #E8F0FE;\n",
              "      border: none;\n",
              "      border-radius: 50%;\n",
              "      cursor: pointer;\n",
              "      display: none;\n",
              "      fill: #1967D2;\n",
              "      height: 32px;\n",
              "      padding: 0 0 0 0;\n",
              "      width: 32px;\n",
              "    }\n",
              "\n",
              "    .colab-df-convert:hover {\n",
              "      background-color: #E2EBFA;\n",
              "      box-shadow: 0px 1px 2px rgba(60, 64, 67, 0.3), 0px 1px 3px 1px rgba(60, 64, 67, 0.15);\n",
              "      fill: #174EA6;\n",
              "    }\n",
              "\n",
              "    [theme=dark] .colab-df-convert {\n",
              "      background-color: #3B4455;\n",
              "      fill: #D2E3FC;\n",
              "    }\n",
              "\n",
              "    [theme=dark] .colab-df-convert:hover {\n",
              "      background-color: #434B5C;\n",
              "      box-shadow: 0px 1px 3px 1px rgba(0, 0, 0, 0.15);\n",
              "      filter: drop-shadow(0px 1px 2px rgba(0, 0, 0, 0.3));\n",
              "      fill: #FFFFFF;\n",
              "    }\n",
              "  </style>\n",
              "\n",
              "      <script>\n",
              "        const buttonEl =\n",
              "          document.querySelector('#df-23494b8a-09ef-4045-8adb-7d3f1f4db46f button.colab-df-convert');\n",
              "        buttonEl.style.display =\n",
              "          google.colab.kernel.accessAllowed ? 'block' : 'none';\n",
              "\n",
              "        async function convertToInteractive(key) {\n",
              "          const element = document.querySelector('#df-23494b8a-09ef-4045-8adb-7d3f1f4db46f');\n",
              "          const dataTable =\n",
              "            await google.colab.kernel.invokeFunction('convertToInteractive',\n",
              "                                                     [key], {});\n",
              "          if (!dataTable) return;\n",
              "\n",
              "          const docLinkHtml = 'Like what you see? Visit the ' +\n",
              "            '<a target=\"_blank\" href=https://colab.research.google.com/notebooks/data_table.ipynb>data table notebook</a>'\n",
              "            + ' to learn more about interactive tables.';\n",
              "          element.innerHTML = '';\n",
              "          dataTable['output_type'] = 'display_data';\n",
              "          await google.colab.output.renderOutput(dataTable, element);\n",
              "          const docLink = document.createElement('div');\n",
              "          docLink.innerHTML = docLinkHtml;\n",
              "          element.appendChild(docLink);\n",
              "        }\n",
              "      </script>\n",
              "    </div>\n",
              "  </div>\n",
              "  "
            ]
          },
          "metadata": {},
          "execution_count": 5
        }
      ]
    },
    {
      "cell_type": "markdown",
      "source": [
        "**Step 3:** Using pandas' [query method](https://pandas.pydata.org/docs/user_guide/indexing.html#the-query-method) and the `len` methods on the selections, print the number of images in the training, validation and test sets."
      ],
      "metadata": {
        "id": "n-ZA-MdI_zzN"
      }
    },
    {
      "cell_type": "code",
      "source": [
        "# Prints the dimensions of the dataframe\n",
        "\n",
        "# YOUR CODE HERE\n",
        "\n",
        "train_length = len(image_data.query('split == \"training\"'))\n",
        "validation_length = len(image_data.query('split == \"validation\"'))\n",
        "test_length = len(image_data.query('split == \"test\"'))\n",
        "\n",
        "print(f'Number of images in training set: {train_length}')\n",
        "print(f'Number of images in validation set: {validation_length}')\n",
        "print(f'Number of images in test set: {test_length}')"
      ],
      "metadata": {
        "id": "ewWdw9Zvx5x6",
        "colab": {
          "base_uri": "https://localhost:8080/"
        },
        "outputId": "e448e87d-6bb9-4566-d018-5237665842a0"
      },
      "execution_count": null,
      "outputs": [
        {
          "output_type": "stream",
          "name": "stdout",
          "text": [
            "Number of images in training set: 2222\n",
            "Number of images in validation set: 645\n",
            "Number of images in test set: 505\n"
          ]
        }
      ]
    },
    {
      "cell_type": "markdown",
      "source": [
        "**Step 4:** Using the `value_counts` method on the “label” column, provide the composition of the dataset in terms of the number of SARS-CoV-3 cases, pneumonia cases and healthy x-rays. In another cell, prepare a bar chart from that data using matplotlib's `bar` method. Note that the result of the `value_counts` methods is a series object whose property `index` is the label."
      ],
      "metadata": {
        "id": "D_cEMcdnwzpo"
      }
    },
    {
      "cell_type": "code",
      "source": [
        "# Generates a breakdown of the images' classes\n",
        "\n",
        "# YOUR CODE HERE\n",
        "\n",
        "num_normal = image_data[\"label\"].value_counts()[\"normal\"]\n",
        "num_pneumonia = image_data[\"label\"].value_counts()[\"pneumonia\"]\n",
        "num_sars = image_data[\"label\"].value_counts()[\"sarscov3\"]\n",
        "\n",
        "print(f'There are {num_normal} rows in the dataset with a label column of `normal`')\n",
        "print(f'There are {num_pneumonia} rows in the dataset with a label column of `pneumonia`')\n",
        "print(f'There are {num_sars} rows in the dataset with a label column of `sarscov3`')\n",
        "\n",
        "\n"
      ],
      "metadata": {
        "id": "XnNdC4_XxOV1",
        "colab": {
          "base_uri": "https://localhost:8080/"
        },
        "outputId": "70e43e5c-7188-4233-b923-6f0aea540024"
      },
      "execution_count": null,
      "outputs": [
        {
          "output_type": "stream",
          "name": "stdout",
          "text": [
            "There are 1500 rows in the dataset with a label column of `normal`\n",
            "There are 1300 rows in the dataset with a label column of `pneumonia`\n",
            "There are 572 rows in the dataset with a label column of `sarscov3`\n"
          ]
        }
      ]
    },
    {
      "cell_type": "code",
      "source": [
        "# Plots a bar chart\n",
        "\n",
        "# YOUR CODE HERE\n",
        "x = [\"normal\", \"pneumonia\", \"sarscov3\"]\n",
        "y = [num_normal, num_pneumonia, num_sars]\n",
        "\n",
        "title(\"Number of Data Rows per Label Type\")\n",
        "xlabel(\"Label Type\")\n",
        "ylabel(\"Number of Data Rows\")\n",
        "bar(x, y, color ='darksalmon',\n",
        "        width = 0.8)"
      ],
      "metadata": {
        "id": "DgEUaXfujlR3",
        "colab": {
          "base_uri": "https://localhost:8080/",
          "height": 312
        },
        "outputId": "ac826d4a-f44c-49cf-a70c-1db967bda326"
      },
      "execution_count": null,
      "outputs": [
        {
          "output_type": "execute_result",
          "data": {
            "text/plain": [
              "<BarContainer object of 3 artists>"
            ]
          },
          "metadata": {},
          "execution_count": 8
        },
        {
          "output_type": "display_data",
          "data": {
            "text/plain": [
              "<Figure size 432x288 with 1 Axes>"
            ],
            "image/png": "[encoded data removed]"
          },
          "metadata": {
            "needs_background": "light"
          }
        }
      ]
    },
    {
      "cell_type": "markdown",
      "source": [
        "❓ ***Question: Is the data balanced or not? If not, specify why class imbalance makes classification more difficult, and suggest one method you could use to deal with the imbalanced data.***"
      ],
      "metadata": {
        "id": "7actPHfExeYB"
      }
    },
    {
      "cell_type": "markdown",
      "source": [
        "📝 \n",
        "\n",
        "The data is not balanced. There is a significantly smaller amount of `sarscov3` data rows than `normal` and `pneumonia` data rows. This may result in a bias when classifying labels. A potential solution to this is oversampling which will make multiple copies of samples to make up for the lack of examples of a certain class/label."
      ],
      "metadata": {
        "id": "6QR5HTn_m9P6"
      }
    },
    {
      "cell_type": "markdown",
      "source": [
        "## Part 2: Applying pre-trained CNN models to the data\n",
        "\n",
        "Researchers make pre-trained neural networks available to the community at large. There are many, many pre-trained CNNs available in online repositories that researchers can leverage for their own applications."
      ],
      "metadata": {
        "id": "2gGFYwdHBWvZ"
      }
    },
    {
      "cell_type": "code",
      "source": [
        "from torchvision.io import read_image\n",
        "from timm import create_model\n",
        "from matplotlib.pyplot import imread, imshow\n",
        "from imagenet_stubs.imagenet_2012_labels import label_to_name\n",
        "import torch"
      ],
      "metadata": {
        "id": "vNx-cQJlKCi6"
      },
      "execution_count": null,
      "outputs": []
    },
    {
      "cell_type": "markdown",
      "source": [
        "**Step 1:** Display the image `SYSC4415W23_A2_dataset/training/sarscov3/100_sarscov3.jpg` from the training set. The matplotlib methods `imread` and `imshow` are useful. 😉"
      ],
      "metadata": {
        "id": "fxQ7F3K6KCvM"
      }
    },
    {
      "cell_type": "code",
      "source": [
        "# Display the image with matplotlib's imread/imshow\n",
        "\n",
        "# YOUR CODE HERE\n",
        "\n",
        "arr = imread(\"SYSC4415W23_A2_dataset/training/sarscov3/100_sarscov3.jpg\")\n",
        "imshow(arr)"
      ],
      "metadata": {
        "id": "ckGQkYL6k41-",
        "colab": {
          "base_uri": "https://localhost:8080/",
          "height": 286
        },
        "outputId": "51e1ee7f-f43d-4c55-f24d-bd4cf1404b1b"
      },
      "execution_count": null,
      "outputs": [
        {
          "output_type": "execute_result",
          "data": {
            "text/plain": [
              "<matplotlib.image.AxesImage at 0x7ff6fa2e6b50>"
            ]
          },
          "metadata": {},
          "execution_count": 10
        },
        {
          "output_type": "display_data",
          "data": {
            "text/plain": [
              "<Figure size 432x288 with 1 Axes>"
            ],
            "image/png": "[encoded data removed]"
          },
          "metadata": {
            "needs_background": "light"
          }
        }
      ]
    },
    {
      "cell_type": "markdown",
      "source": [
        "**Step 2:** Load the ImageNet-pretrained InceptionV3 (`inception_v3`) and ResNet50 (`resnet50`) models with `timm` (this was done in Anthony's CIFAR100 tutorial with PyTorch). Use them to predict the class of the image along with the probability (not the logit). The probability is the result of applying the softmax function to the logits.\n",
        "\n",
        "Of course, because the models were pretrained on ImageNet, it will not predict any of the classes that interest us.\n",
        "\n",
        "***Notes:**\n",
        "1. The `read_image` function can convert an image on disk to a tensor.\n",
        "\n",
        "2. The function `label_to_name` that I imported for you converts the index of an ImageNet class to its English name.\n",
        "\n",
        "3. You can call softmax on a tensor using `my_tensor.softmax(0)`."
      ],
      "metadata": {
        "id": "42hsfWsyBDPr"
      }
    },
    {
      "cell_type": "code",
      "source": [
        "# Loads the image in a Tensor (the method read_image can load the image in a tensor), calls unsqueeze(0) on the tensor to add a dimension and convert its entries to floats using the .float() method\n",
        "\n",
        "# YOUR CODE HERE\n",
        "\n",
        "tensor_image = read_image(\"SYSC4415W23_A2_dataset/training/sarscov3/100_sarscov3.jpg\")\n",
        "unsqueeze_tensor = tensor_image.unsqueeze(0)\n",
        "in_tensor = unsqueeze_tensor.float()"
      ],
      "metadata": {
        "id": "yJ49xCUJl_ao"
      },
      "execution_count": null,
      "outputs": []
    },
    {
      "cell_type": "code",
      "source": [
        "# Loads the InceptionV3 model, and prints the class of the image along with its probability\n",
        "\n",
        "# YOUR CODE HERE\n",
        "model_inception = create_model('inception_v3', pretrained=True)\n",
        "model_inception.eval()\n",
        "with torch.no_grad():\n",
        "  outputs = model_inception(in_tensor)\n",
        "  probs, indices = torch.softmax(outputs, dim=1).topk(1)\n",
        "\n",
        "class_idx = indices.item()\n",
        "class_prob = probs.item()\n",
        "class_name = label_to_name(class_idx)\n",
        "print(class_name)\n",
        "print(class_prob)\n"
      ],
      "metadata": {
        "id": "Qy3maVQ9CJag",
        "colab": {
          "base_uri": "https://localhost:8080/"
        },
        "outputId": "692fc5e3-8ad3-4508-f716-1846548b5423"
      },
      "execution_count": null,
      "outputs": [
        {
          "output_type": "stream",
          "name": "stderr",
          "text": [
            "Downloading: \"https://download.pytorch.org/models/inception_v3_google-1a9a5a14.pth\" to /root/.cache/torch/hub/checkpoints/inception_v3_google-1a9a5a14.pth\n"
          ]
        },
        {
          "output_type": "stream",
          "name": "stdout",
          "text": [
            "pitcher, ewer\n",
            "0.9999599456787109\n"
          ]
        }
      ]
    },
    {
      "cell_type": "code",
      "source": [
        "# Loads the ResNet50 model, and prints the class of the image along with its probability\n",
        "\n",
        "# YOUR CODE HERE\n",
        "# load the model\n",
        "model_resnet = create_model('resnet50', pretrained=True)\n",
        "model_resnet.eval()\n",
        "with torch.no_grad():\n",
        "  outputs = model_resnet(in_tensor)\n",
        "  probs, indices = torch.softmax(outputs, dim=1).topk(1)\n",
        "\n",
        "class_idx = indices.item()\n",
        "class_prob = probs.item()\n",
        "class_name = label_to_name(class_idx)\n",
        "print(class_name)\n",
        "print(class_prob)\n",
        "\n",
        "\n"
      ],
      "metadata": {
        "id": "BP_or0WhEhyH",
        "colab": {
          "base_uri": "https://localhost:8080/"
        },
        "outputId": "dbb0df98-c10e-43e6-9793-43af454a98b6"
      },
      "execution_count": null,
      "outputs": [
        {
          "output_type": "stream",
          "name": "stderr",
          "text": [
            "Downloading: \"https://github.com/rwightman/pytorch-image-models/releases/download/v0.1-rsb-weights/resnet50_a1_0-14fe96d1.pth\" to /root/.cache/torch/hub/checkpoints/resnet50_a1_0-14fe96d1.pth\n"
          ]
        },
        {
          "output_type": "stream",
          "name": "stdout",
          "text": [
            "kelpie\n",
            "1.0\n"
          ]
        }
      ]
    },
    {
      "cell_type": "markdown",
      "source": [
        "❓ ***Question: What classes are predicted for the two models? Are the models confident? Is it a good thing?***"
      ],
      "metadata": {
        "id": "IBxaFdfdwnpU"
      }
    },
    {
      "cell_type": "markdown",
      "source": [
        "📝 \n",
        "\n",
        "*Inception_v3 model:*\n",
        "\n",
        "The pitcher, ewer class class is predicted for the inception model. There is a very high probability value associated with this. This is not good because the image has nothing to do with a pitcher, ewer. We would prefer a lower probability.\n",
        "\n",
        "*Resnet50 model:*\n",
        "\n",
        "The kelpie class is predicted for the resnet50 model. Once again we have a high probability which is bad because the model is confident when it shouldn't be.\n",
        "\n"
      ],
      "metadata": {
        "id": "hjw-R-FdxlFh"
      }
    },
    {
      "cell_type": "markdown",
      "source": [
        "## Part 3: Instantiating the dataloaders to perform fine tuning\n",
        "When working with large image datasets with PyTorch, people often implement a DataLoader to help manage how images are loaded during training. The dataloader can be combined with methods that implement data augmentation by modifying the images with transforms (eg. scaling, rotation, reflection, cropping, etc.). For the most common applications, there are existing data loaders that are perfectly suitable and that users can use instead of defining their own.\n"
      ],
      "metadata": {
        "id": "soeLJWebR8Oy"
      }
    },
    {
      "cell_type": "code",
      "source": [
        "from torch.utils.data import DataLoader\n",
        "from torchvision.datasets import ImageFolder\n",
        "from torchvision import datasets, transforms"
      ],
      "metadata": {
        "id": "NZROCPrvJ8sb"
      },
      "execution_count": null,
      "outputs": []
    },
    {
      "cell_type": "markdown",
      "source": [
        "**Step 1:** Using the `ImageFolder` strategy to build a dataloader with a batch size of 128 for training. ([This tutorial](https://pytorch.org/tutorials/beginner/data_loading_tutorial.html#afterword-torchvision) is most helpful.)\n",
        "\n",
        "You will also want your dataloader for your training set to apply the following data augmentation transforms (documentation available [here](https://pytorch.org/vision/stable/transforms.html)):\n",
        "\n",
        "1. Random rotation between -10 and 10 deg\n",
        "2. Random horizontal flip with 40% probability"
      ],
      "metadata": {
        "id": "U0yxnCVsKiIL"
      }
    },
    {
      "cell_type": "code",
      "source": [
        "# Creates the dataset and dataloader that will be used for training\n",
        "\n",
        "# YOUR CODE HERE\n",
        "\n",
        "data_transform = transforms.Compose([\n",
        "    transforms.RandomRotation(degrees = 10),\n",
        "    transforms.RandomHorizontalFlip(p = 0.4),\n",
        "    transforms.ToTensor()\n",
        "])\n",
        "\n",
        "dataset_train = ImageFolder(\"SYSC4415W23_A2_dataset/training/\", transform = data_transform)\n",
        "train_loader = DataLoader(dataset_train, batch_size=128, shuffle = True)"
      ],
      "metadata": {
        "id": "Acm52Rn_ayUP"
      },
      "execution_count": null,
      "outputs": []
    },
    {
      "cell_type": "markdown",
      "source": [
        "**Step 2**: Create the dataloaders you will be using for validation and testing. The transform should only convert the images to a tensor. You should not specify a batch size for the test set dataloader."
      ],
      "metadata": {
        "id": "fj5c1hYV8Oxi"
      }
    },
    {
      "cell_type": "code",
      "source": [
        "# Creates the dataloader that will be used for validation\n",
        "\n",
        "# YOUR CODE HERE\n",
        "val_test_transform = transforms.Compose([\n",
        "    transforms.ToTensor()\n",
        "])\n",
        "dataset_val = ImageFolder(\"SYSC4415W23_A2_dataset/validation/\", transform = val_test_transform)\n",
        "val_loader = DataLoader(dataset_val, shuffle = False)"
      ],
      "metadata": {
        "id": "DmGqrtFN6p7e"
      },
      "execution_count": null,
      "outputs": []
    },
    {
      "cell_type": "code",
      "source": [
        "# Creates the dataloader that will be used testing\n",
        "\n",
        "# YOUR CODE HERE\n",
        "\n",
        "dataset_test = ImageFolder(\"SYSC4415W23_A2_dataset/test/\", transform = val_test_transform)\n",
        "test_loader = DataLoader(dataset_test, shuffle = False)"
      ],
      "metadata": {
        "id": "XX-Gkx8iK7XX"
      },
      "execution_count": null,
      "outputs": []
    },
    {
      "cell_type": "markdown",
      "source": [
        "## Part 4: Fine-tuning existing CNN architectures\n",
        "\n",
        "The Inception V3 and ResNet50 models you loaded above were trained on ImageNet which is not a medical dataset. In order to leverage these models for our purposes, we need to modify the architecture so that the final classification layer contains an appropriate number of classes and retune the model weights so that the models become suitable for the classification of our x-rays.\n"
      ],
      "metadata": {
        "id": "Xt5LRQ1B8i39"
      }
    },
    {
      "cell_type": "code",
      "source": [
        "from timm import create_model\n",
        "import time\n",
        "from matplotlib.pyplot import subplots\n",
        "from torch.optim import AdamW\n",
        "from torch.nn import CrossEntropyLoss\n",
        "from torch import no_grad, Tensor"
      ],
      "metadata": {
        "id": "LN6ZeKE8Lp-p"
      },
      "execution_count": null,
      "outputs": []
    },
    {
      "cell_type": "markdown",
      "source": [
        "**Step 1:** Using `create_model` from the `timm` package, Load the InceptionV3 and ResNet50 models, replacing the final layer with one appropriate for our purpose (recall that we want to classify x-rays of healthy, pneumonia and SARS-CoV-3 patients). Note that the timm library can assist in replacing the final layer (see [Anthony's tutorial](https://github.com/jrgreen7/SYSC4906/blob/master/W2023/Tutorials/CIFAR100_tutorial_WIP.ipynb)). These are your modified models."
      ],
      "metadata": {
        "id": "iTGT-CC5Los5"
      }
    },
    {
      "cell_type": "code",
      "source": [
        "# Loads the InceptionV3 model and replaces the final classification layer with a new dense layer\n",
        "\n",
        "# YOUR CODE HERE\n",
        "\n",
        "inception_model = create_model('inception_v3', num_classes = 3, pretrained = True) # 3 classes because we have 3 labels"
      ],
      "metadata": {
        "id": "FyUSzYSk89Hk"
      },
      "execution_count": null,
      "outputs": []
    },
    {
      "cell_type": "code",
      "source": [
        "# Loads the ResNet50 model and replaces the final classification layer with a new dense layer\n",
        "\n",
        "# YOUR CODE HERE\n",
        "resnet_model = create_model('resnet50', num_classes = 3, pretrained = True).cuda() # 3 classes because we have 3 labels"
      ],
      "metadata": {
        "id": "X0nCkWigU0dN"
      },
      "execution_count": null,
      "outputs": []
    },
    {
      "cell_type": "markdown",
      "source": [
        "**Step 2:** In a tutorial with Anthony, you have seen that you can convert a base learning rate to an effective learning rate based on the batch size you have selected using the following heuristic:\n",
        "\n",
        "$$\\eta_{eff} = \\frac{B\\eta_{base}}{256}$$\n",
        "\n",
        "where $\\eta$ is the learning rate and $B$ is the batch size.\n",
        "\n",
        "Train the final layer modified InceptionV3 and ResNet50 models on your training set. Use the **base** learning rate $\\eta_{base}$ of 0.0005.\n",
        "\n",
        "Use the following settings:\n",
        "\n",
        "**Epochs:** 25\n",
        "\n",
        "**Optimizer:** AdamW\n",
        "\n",
        "**Loss function:** Cross-entropy (it is not required here, but note that using the weight parameter here could help deal with class imbalance)\n",
        "\n",
        "Implement the training loop yourself. Do not use a package that automates the process. Anthony has demonstrated how to do this and much can be taken from [his example](https://github.com/jrgreen7/SYSC4906/blob/master/W2023/Tutorials/CIFAR100_tutorial_WIP.ipynb).\n",
        "\n",
        "❗**Important: Make sure you are using a colab gpu and to store the mean training and validation performance/loss at each epoch as you will be plotting them in the next steps.**"
      ],
      "metadata": {
        "id": "fnPggZay-S_R"
      }
    },
    {
      "cell_type": "code",
      "source": [
        "# Moves the modified inceptionV3 model to GPU\n",
        "\n",
        "# YOUR CODE HERE\n",
        "inception_model.cuda()\n",
        "print() "
      ],
      "metadata": {
        "id": "Xpt117nYLyPe",
        "colab": {
          "base_uri": "https://localhost:8080/"
        },
        "outputId": "4a89a5db-2090-4867-b9aa-6fc577907fb0"
      },
      "execution_count": null,
      "outputs": [
        {
          "output_type": "stream",
          "name": "stdout",
          "text": [
            "\n"
          ]
        }
      ]
    },
    {
      "cell_type": "code",
      "source": [
        "# Instantiates the optimizer for the modified InceptionV3 model using the specified effective learning rate\n",
        "\n",
        "# YOUR CODE HERE\n",
        "base_lr = 0.0005\n",
        "batch = 128\n",
        "effective_learning_rate = base_lr * batch / 256\n",
        "opt = torch.optim.AdamW(inception_model.parameters(), lr = effective_learning_rate)\n",
        "epochs = 25\n",
        "loss_function = torch.nn.CrossEntropyLoss()"
      ],
      "metadata": {
        "id": "xPG5MGPIMk4x"
      },
      "execution_count": null,
      "outputs": []
    },
    {
      "cell_type": "code",
      "source": [
        "# Sets up the loss function for the modified InceptionV3 model\n",
        "\n",
        "# YOUR CODE HERE\n",
        "inception_train_losses = []\n",
        "inception_val_losses = []\n",
        "\n",
        "for epoch in range(epochs):\n",
        "  start_time = time.time()\n",
        "  train_losses = []\n",
        "  inception_model.train()\n",
        "  for batch in train_loader:\n",
        "    batch_imgs, batch_labels = batch\n",
        "    batch_imgs = batch_imgs.cuda()\n",
        "    batch_labels = batch_labels.cuda()\n",
        "\n",
        "    logits = inception_model(batch_imgs)\n",
        "    loss = loss_function(logits, batch_labels)\n",
        "    loss.backward()\n",
        "\n",
        "    opt.step()\n",
        "    opt.zero_grad()\n",
        "    train_losses.append(loss.item())\n",
        "  \n",
        "  val_losses = []\n",
        "  inception_model.eval()\n",
        "  with torch.no_grad():\n",
        "    for batch in val_loader:\n",
        "      batch_imgs, batch_labels = batch\n",
        "      batch_imgs = batch_imgs.cuda()\n",
        "      batch_labels = batch_labels.cuda()\n",
        "\n",
        "      logits = inception_model(batch_imgs)\n",
        "      loss = loss_function(logits, batch_labels)\n",
        "      val_losses.append(loss.item())\n",
        "  \n",
        "  train_time = time.time() - start_time\n",
        "  epoch_train_loss = Tensor(train_losses).mean().item()\n",
        "  inception_train_losses.append(epoch_train_loss)\n",
        "  epoch_val_loss = torch.Tensor(val_losses).mean().item()\n",
        "  inception_val_losses.append(epoch_val_loss)\n",
        "  print(f'Epoch: {epoch}  Train Loss: {epoch_train_loss:8.6f}   Val Loss: {epoch_val_loss:8.6f}  Time: {train_time:6.4f}')"
      ],
      "metadata": {
        "id": "EfcMH2x-Mpjh",
        "colab": {
          "base_uri": "https://localhost:8080/"
        },
        "outputId": "72e2cc3f-ee21-498b-9e90-54040c8a3d1f"
      },
      "execution_count": null,
      "outputs": [
        {
          "output_type": "stream",
          "name": "stdout",
          "text": [
            "Epoch: 0  Train Loss: 0.555517   Val Loss: 0.753006  Time: 29.0064\n",
            "Epoch: 1  Train Loss: 0.180992   Val Loss: 0.179518  Time: 19.4535\n",
            "Epoch: 2  Train Loss: 0.119276   Val Loss: 0.133082  Time: 19.4610\n",
            "Epoch: 3  Train Loss: 0.102100   Val Loss: 0.118570  Time: 19.5718\n",
            "Epoch: 4  Train Loss: 0.061352   Val Loss: 0.101195  Time: 19.7366\n",
            "Epoch: 5  Train Loss: 0.047001   Val Loss: 0.109115  Time: 19.6510\n",
            "Epoch: 6  Train Loss: 0.039300   Val Loss: 0.136622  Time: 19.5936\n",
            "Epoch: 7  Train Loss: 0.033794   Val Loss: 0.093029  Time: 19.5785\n",
            "Epoch: 8  Train Loss: 0.025253   Val Loss: 0.089799  Time: 19.5424\n",
            "Epoch: 9  Train Loss: 0.020763   Val Loss: 0.101276  Time: 19.4538\n",
            "Epoch: 10  Train Loss: 0.016717   Val Loss: 0.088419  Time: 19.4838\n",
            "Epoch: 11  Train Loss: 0.014117   Val Loss: 0.095039  Time: 19.5723\n",
            "Epoch: 12  Train Loss: 0.007528   Val Loss: 0.120518  Time: 19.5568\n",
            "Epoch: 13  Train Loss: 0.023933   Val Loss: 0.088025  Time: 19.7353\n",
            "Epoch: 14  Train Loss: 0.036585   Val Loss: 0.123782  Time: 19.6752\n",
            "Epoch: 15  Train Loss: 0.026822   Val Loss: 0.108090  Time: 19.6704\n",
            "Epoch: 16  Train Loss: 0.023956   Val Loss: 0.174698  Time: 19.5983\n",
            "Epoch: 17  Train Loss: 0.043773   Val Loss: 0.109404  Time: 19.4816\n",
            "Epoch: 18  Train Loss: 0.021819   Val Loss: 0.102162  Time: 19.7838\n",
            "Epoch: 19  Train Loss: 0.011638   Val Loss: 0.111313  Time: 19.7165\n",
            "Epoch: 20  Train Loss: 0.011369   Val Loss: 0.130419  Time: 19.6830\n",
            "Epoch: 21  Train Loss: 0.009969   Val Loss: 0.136288  Time: 19.8752\n",
            "Epoch: 22  Train Loss: 0.024263   Val Loss: 0.132533  Time: 19.9103\n",
            "Epoch: 23  Train Loss: 0.012844   Val Loss: 0.085799  Time: 19.6680\n",
            "Epoch: 24  Train Loss: 0.009449   Val Loss: 0.076853  Time: 19.7522\n"
          ]
        }
      ]
    },
    {
      "cell_type": "code",
      "source": [
        "# Fine-tunes the weights in the final layer the modified InceptionV3 model (main learning loop)\n",
        "\n",
        "# YOUR CODE HERE\n",
        "\"\"\"\n",
        "This is achieved with the call of optimizer.step() and loss.backward()\n",
        "\"\"\""
      ],
      "metadata": {
        "id": "D8tIT-9M-WkC",
        "colab": {
          "base_uri": "https://localhost:8080/",
          "height": 36
        },
        "outputId": "4bccd8b6-674a-40b2-afd2-81e6f29788b6"
      },
      "execution_count": null,
      "outputs": [
        {
          "output_type": "execute_result",
          "data": {
            "text/plain": [
              "'\\nThis is achieved with the call of optimizer.step() and loss.backward()\\n'"
            ],
            "application/vnd.google.colaboratory.intrinsic+json": {
              "type": "string"
            }
          },
          "metadata": {},
          "execution_count": 96
        }
      ]
    },
    {
      "cell_type": "code",
      "source": [
        "# Moves the modified ResNet50 model to GPU\n",
        "\n",
        "# YOUR CODE HERE\n",
        "resnet_model.cuda()\n",
        "print() "
      ],
      "metadata": {
        "id": "O4OZyXmHxkFn",
        "colab": {
          "base_uri": "https://localhost:8080/"
        },
        "outputId": "35668e40-8730-4a4c-8268-a2dc637400ed"
      },
      "execution_count": null,
      "outputs": [
        {
          "output_type": "stream",
          "name": "stdout",
          "text": [
            "\n"
          ]
        }
      ]
    },
    {
      "cell_type": "code",
      "source": [
        "# Instantiates the optimizer for the modified ResNet50 model\n",
        "\n",
        "# YOUR CODE HERE\n",
        "\n",
        "opt = torch.optim.AdamW(resnet_model.parameters(), lr = effective_learning_rate)\n"
      ],
      "metadata": {
        "id": "Fz_V6au6RbV3"
      },
      "execution_count": null,
      "outputs": []
    },
    {
      "cell_type": "code",
      "source": [
        "# Sets up the loss function for the modified ResNet50 model\n",
        "\n",
        "# YOUR CODE HERE\n",
        "\n",
        "resnet_train_losses = []\n",
        "resnet_val_losses = []\n",
        "for epoch in range(epochs):\n",
        "  start_time = time.time()\n",
        "  train_losses = []\n",
        "  resnet_model.train()\n",
        "  for batch in train_loader:\n",
        "    batch_imgs, batch_labels = batch\n",
        "    batch_imgs = batch_imgs.cuda()\n",
        "    batch_labels = batch_labels.cuda()\n",
        "\n",
        "    logits = resnet_model(batch_imgs)\n",
        "    loss = loss_function(logits, batch_labels)\n",
        "    loss.backward()\n",
        "\n",
        "    opt.step()\n",
        "    opt.zero_grad()\n",
        "    train_losses.append(loss.item())\n",
        "  \n",
        "  val_losses = []\n",
        "  resnet_model.eval()\n",
        "  with torch.no_grad():\n",
        "    for batch in val_loader:\n",
        "      batch_imgs, batch_labels = batch\n",
        "      batch_imgs = batch_imgs.cuda()\n",
        "      batch_labels = batch_labels.cuda()\n",
        "\n",
        "      logits = resnet_model(batch_imgs)\n",
        "      loss = loss_function(logits, batch_labels)\n",
        "      val_losses.append(loss.item())\n",
        "  \n",
        "  train_time = time.time() - start_time\n",
        "  epoch_train_loss = Tensor(train_losses).mean().item()\n",
        "  resnet_train_losses.append(epoch_train_loss)\n",
        "  epoch_val_loss = torch.Tensor(val_losses).mean().item()\n",
        "  resnet_val_losses.append(epoch_val_loss)\n",
        "  print(f'Epoch: {epoch}  Train Loss: {epoch_train_loss:8.6f}   Val Loss: {epoch_val_loss:8.6f}  Time: {train_time:6.4f}')"
      ],
      "metadata": {
        "id": "W3iE55k-RbV5",
        "colab": {
          "base_uri": "https://localhost:8080/"
        },
        "outputId": "c32f85d3-73b9-453d-a671-dffb637978aa"
      },
      "execution_count": null,
      "outputs": [
        {
          "output_type": "stream",
          "name": "stdout",
          "text": [
            "Epoch: 0  Train Loss: 0.953217   Val Loss: 1.000931  Time: 14.6133\n",
            "Epoch: 1  Train Loss: 0.619479   Val Loss: 0.816770  Time: 14.4920\n",
            "Epoch: 2  Train Loss: 0.400629   Val Loss: 0.745610  Time: 14.4504\n",
            "Epoch: 3  Train Loss: 0.284930   Val Loss: 0.773110  Time: 14.5955\n",
            "Epoch: 4  Train Loss: 0.193082   Val Loss: 0.323317  Time: 14.3631\n",
            "Epoch: 5  Train Loss: 0.118539   Val Loss: 0.304956  Time: 14.6889\n",
            "Epoch: 6  Train Loss: 0.100444   Val Loss: 1.584266  Time: 14.4585\n",
            "Epoch: 7  Train Loss: 0.084357   Val Loss: 0.802618  Time: 14.5351\n",
            "Epoch: 8  Train Loss: 0.074906   Val Loss: 0.118023  Time: 14.4805\n",
            "Epoch: 9  Train Loss: 0.047185   Val Loss: 0.219296  Time: 14.3771\n",
            "Epoch: 10  Train Loss: 0.045717   Val Loss: 0.103338  Time: 14.4886\n",
            "Epoch: 11  Train Loss: 0.044163   Val Loss: 0.122864  Time: 14.5244\n",
            "Epoch: 12  Train Loss: 0.027912   Val Loss: 0.090533  Time: 14.4352\n",
            "Epoch: 13  Train Loss: 0.025502   Val Loss: 0.117159  Time: 14.5641\n",
            "Epoch: 14  Train Loss: 0.032935   Val Loss: 0.143408  Time: 14.5280\n",
            "Epoch: 15  Train Loss: 0.032527   Val Loss: 0.165102  Time: 14.6722\n",
            "Epoch: 16  Train Loss: 0.018069   Val Loss: 0.146957  Time: 14.4501\n",
            "Epoch: 17  Train Loss: 0.023533   Val Loss: 0.094809  Time: 14.4920\n",
            "Epoch: 18  Train Loss: 0.020549   Val Loss: 0.109882  Time: 14.6515\n",
            "Epoch: 19  Train Loss: 0.019459   Val Loss: 0.100681  Time: 14.5666\n",
            "Epoch: 20  Train Loss: 0.010826   Val Loss: 0.112971  Time: 14.4866\n",
            "Epoch: 21  Train Loss: 0.011121   Val Loss: 0.105846  Time: 14.5350\n",
            "Epoch: 22  Train Loss: 0.014117   Val Loss: 0.145024  Time: 14.6671\n",
            "Epoch: 23  Train Loss: 0.012454   Val Loss: 0.184991  Time: 14.5595\n",
            "Epoch: 24  Train Loss: 0.016261   Val Loss: 0.105647  Time: 14.6822\n"
          ]
        }
      ]
    },
    {
      "cell_type": "code",
      "source": [
        "# Fine-tunes the weights in the final layer the modified ResNet50 model (main learning loop)\n",
        "\n",
        "# YOUR CODE HERE\n",
        "\"\"\"\n",
        "This is achieved with the call of optimizer.step() and loss.backward()\n",
        "\"\"\""
      ],
      "metadata": {
        "id": "HOecqyEUFpnH",
        "colab": {
          "base_uri": "https://localhost:8080/",
          "height": 36
        },
        "outputId": "ac6a380d-00d4-4e99-8f41-681b1573079f"
      },
      "execution_count": null,
      "outputs": [
        {
          "output_type": "execute_result",
          "data": {
            "text/plain": [
              "'\\nThis is achieved with the call of optimizer.step() and loss.backward()\\n'"
            ],
            "application/vnd.google.colaboratory.intrinsic+json": {
              "type": "string"
            }
          },
          "metadata": {},
          "execution_count": 97
        }
      ]
    },
    {
      "cell_type": "markdown",
      "source": [
        "**Step 3:** In different labeled subplots, display the learning curves for each model. Each subplot should display loss on the training set and the validation set (*i.e.* 2 curves per subplot). Use matplotlib."
      ],
      "metadata": {
        "id": "hWdTW9APDrpS"
      }
    },
    {
      "cell_type": "code",
      "source": [
        "# Displays the learning curves (loss) for both models in two separate subplots\n",
        "\n",
        "# YOUR CODE HERE\n",
        "import matplotlib.pyplot as plt\n",
        "\n",
        "f = plt.figure()\n",
        "f.set_figwidth(14)\n",
        "f.set_figheight(6)\n",
        "\n",
        "# x-axis \n",
        "\n",
        "x = [1, 2, 3, 4, 5, 6, 7, 8, 9, 10, 11, 12, 13,\n",
        "     14, 15, 16, 17, 18, 19, 20, 21, 22, 23, 24, 25]\n",
        "\n",
        "# plot 1\n",
        "y_train = inception_train_losses\n",
        "y_val = inception_val_losses\n",
        "plt.subplot(1, 2, 1)\n",
        "plt.plot(x, y_train)\n",
        "plt.plot(x, y_val)\n",
        "plt.title(\"Inception Training and Validation Loss by Epoch\")\n",
        "plt.xlabel(\"Epoch\")\n",
        "plt.ylabel(\"Loss\")\n",
        "plt.legend([\"Training Loss\", \"Validation Loss\"], loc =\"upper right\")\n",
        "\n",
        "# plot 2\n",
        "\n",
        "\n",
        "\n",
        "y_train = resnet_train_losses\n",
        "y_val = resnet_val_losses\n",
        "plt.subplot(1, 2, 2)\n",
        "plt.plot(x, y_train)\n",
        "plt.plot(x, y_val)\n",
        "plt.title(\"Resnet Training and Validation Loss by Epoch\")\n",
        "plt.xlabel(\"Epoch\")\n",
        "plt.ylabel(\"Loss\")\n",
        "plt.legend([\"Training Loss\", \"Validation Loss\"], loc =\"upper right\")\n",
        "\n",
        "plt.show()"
      ],
      "metadata": {
        "id": "l-uQC4sIX6-b",
        "colab": {
          "base_uri": "https://localhost:8080/",
          "height": 404
        },
        "outputId": "457c31b6-3acc-4d69-a5ae-2e4e95890c32"
      },
      "execution_count": null,
      "outputs": [
        {
          "output_type": "display_data",
          "data": {
            "text/plain": [
              "<Figure size 1008x432 with 2 Axes>"
            ],
            "image/png": "[encoded data removed]"
          },
          "metadata": {
            "needs_background": "light"
          }
        }
      ]
    },
    {
      "cell_type": "markdown",
      "source": [
        "❓ ***Question: Comment on your learning curves. What do they tell you?***"
      ],
      "metadata": {
        "id": "EvoZe_IGQJ__"
      }
    },
    {
      "cell_type": "markdown",
      "source": [
        "📝 As the number of iterations increases we can see the performance of botht the models becomes better and better. The training loss and validation loss are both decreasing in both models from the starting point to the finishing point. There are momentary increases but the general direction is decreasing. This shows that the model is converging and not overfitting to the training set. Since the validation loss is following the same pattern relative to training loss we can also say that the model is generalizing well to new data."
      ],
      "metadata": {
        "id": "UTgGmtFzQVu_"
      }
    },
    {
      "cell_type": "markdown",
      "source": [
        "## Part 5: Performance evaluation on a test set\n",
        "\n",
        "Of course, estimating the performance of your model on unseen data is a key step in machine learning methodology. Here, you will summarize model performance for your InceptionV3 model and ResNet50 model on the test set."
      ],
      "metadata": {
        "id": "GBAcg-ezIKZG"
      }
    },
    {
      "cell_type": "code",
      "source": [
        "from sklearn.metrics import confusion_matrix\n",
        "from sklearn.metrics import PrecisionRecallDisplay\n",
        "from torch import no_grad\n",
        "\n"
      ],
      "metadata": {
        "id": "qfL6yr-E32SY"
      },
      "execution_count": null,
      "outputs": []
    },
    {
      "cell_type": "markdown",
      "source": [
        "**Step 1:** Iterate through the images in the test set using the test dataloader to make predictions for the test set images and retrieve their actual label (its index). Note that this is done in a way similar to the validation step in the training loop.\n",
        "\n",
        "Append the predicted class index to a list, the actual labels to another and the probability of the SARS-CoV-3 class to another list.\n",
        "\n",
        "Do this for both fine-tuned models.\n",
        "\n",
        "Note that the indices map to the classes as follows:\n",
        "\n",
        "0: normal\n",
        "\n",
        "1: pneumonia\n",
        "\n",
        "2: sarscov3"
      ],
      "metadata": {
        "id": "yfskXdis0a8t"
      }
    },
    {
      "cell_type": "code",
      "source": [
        "# Creates a list of predictions, a list of actual labels and a list of probabilities of the SARS-CoV-3 class for the fine-tuned InceptionV3 model applied to the test set\n",
        "\n",
        "# YOUR CODE HERE\n",
        "inception_model.eval()\n",
        "inception_predicted_values = []\n",
        "actual_labels = []\n",
        "inception_sars_probabilities = []\n",
        "\n",
        "with torch.no_grad():\n",
        "    for i, j in test_loader:\n",
        "\n",
        "        images = i.to('cuda')\n",
        "        labels = j.to('cuda')\n",
        "\n",
        "        # Get model predictions\n",
        "        outputs = inception_model(images)\n",
        "        _, predicted = torch.max(outputs.data, 1)\n",
        "        # print(predicted)\n",
        "\n",
        "        # Append predicted and actual labels to the lists\n",
        "        inception_predicted_values.append(predicted.item())\n",
        "        # print(labels.cpu().numpy())\n",
        "        actual_labels.append(labels.cpu().numpy())\n",
        "\n",
        "        # Get the probabilities for the SARS-CoV-3 class\n",
        "        softmax = torch.nn.Softmax(dim=1)\n",
        "        inception_sars_probabilities.append(softmax(outputs)[:,2].cpu().detach().numpy())\n",
        "\n",
        "\n",
        "for index in range(0,len(inception_predicted_values)):\n",
        "    print(f'Inception model Prediction: {inception_predicted_values[index]} :: Actual value from test set: {actual_labels[index][0]} :: Model confidence: {inception_sars_probabilities[index][0]:1.1f}')"
      ],
      "metadata": {
        "id": "euMGErLf0i_1",
        "colab": {
          "base_uri": "https://localhost:8080/"
        },
        "outputId": "6b7608b5-efbc-415b-b7c9-67d95743ee73"
      },
      "execution_count": null,
      "outputs": [
        {
          "output_type": "stream",
          "name": "stdout",
          "text": [
            "Inception model Prediction: 0 :: Actual value from test set: 0 :: Model confidence: 0.0\n",
            "Inception model Prediction: 0 :: Actual value from test set: 0 :: Model confidence: 0.0\n",
            "Inception model Prediction: 0 :: Actual value from test set: 0 :: Model confidence: 0.0\n",
            "Inception model Prediction: 0 :: Actual value from test set: 0 :: Model confidence: 0.0\n",
            "Inception model Prediction: 0 :: Actual value from test set: 0 :: Model confidence: 0.0\n",
            "Inception model Prediction: 0 :: Actual value from test set: 0 :: Model confidence: 0.0\n",
            "Inception model Prediction: 0 :: Actual value from test set: 0 :: Model confidence: 0.0\n",
            "Inception model Prediction: 0 :: Actual value from test set: 0 :: Model confidence: 0.0\n",
            "Inception model Prediction: 0 :: Actual value from test set: 0 :: Model confidence: 0.0\n",
            "Inception model Prediction: 0 :: Actual value from test set: 0 :: Model confidence: 0.0\n",
            "Inception model Prediction: 0 :: Actual value from test set: 0 :: Model confidence: 0.0\n",
            "Inception model Prediction: 0 :: Actual value from test set: 0 :: Model confidence: 0.0\n",
            "Inception model Prediction: 0 :: Actual value from test set: 0 :: Model confidence: 0.0\n",
            "Inception model Prediction: 0 :: Actual value from test set: 0 :: Model confidence: 0.0\n",
            "Inception model Prediction: 0 :: Actual value from test set: 0 :: Model confidence: 0.0\n",
            "Inception model Prediction: 0 :: Actual value from test set: 0 :: Model confidence: 0.0\n",
            "Inception model Prediction: 0 :: Actual value from test set: 0 :: Model confidence: 0.0\n",
            "Inception model Prediction: 0 :: Actual value from test set: 0 :: Model confidence: 0.0\n",
            "Inception model Prediction: 0 :: Actual value from test set: 0 :: Model confidence: 0.0\n",
            "Inception model Prediction: 0 :: Actual value from test set: 0 :: Model confidence: 0.0\n",
            "Inception model Prediction: 0 :: Actual value from test set: 0 :: Model confidence: 0.0\n",
            "Inception model Prediction: 0 :: Actual value from test set: 0 :: Model confidence: 0.0\n",
            "Inception model Prediction: 0 :: Actual value from test set: 0 :: Model confidence: 0.0\n",
            "Inception model Prediction: 0 :: Actual value from test set: 0 :: Model confidence: 0.0\n",
            "Inception model Prediction: 0 :: Actual value from test set: 0 :: Model confidence: 0.0\n",
            "Inception model Prediction: 0 :: Actual value from test set: 0 :: Model confidence: 0.0\n",
            "Inception model Prediction: 0 :: Actual value from test set: 0 :: Model confidence: 0.0\n",
            "Inception model Prediction: 0 :: Actual value from test set: 0 :: Model confidence: 0.0\n",
            "Inception model Prediction: 0 :: Actual value from test set: 0 :: Model confidence: 0.0\n",
            "Inception model Prediction: 0 :: Actual value from test set: 0 :: Model confidence: 0.0\n",
            "Inception model Prediction: 0 :: Actual value from test set: 0 :: Model confidence: 0.0\n",
            "Inception model Prediction: 0 :: Actual value from test set: 0 :: Model confidence: 0.0\n",
            "Inception model Prediction: 0 :: Actual value from test set: 0 :: Model confidence: 0.0\n",
            "Inception model Prediction: 0 :: Actual value from test set: 0 :: Model confidence: 0.0\n",
            "Inception model Prediction: 0 :: Actual value from test set: 0 :: Model confidence: 0.0\n",
            "Inception model Prediction: 0 :: Actual value from test set: 0 :: Model confidence: 0.0\n",
            "Inception model Prediction: 0 :: Actual value from test set: 0 :: Model confidence: 0.0\n",
            "Inception model Prediction: 0 :: Actual value from test set: 0 :: Model confidence: 0.0\n",
            "Inception model Prediction: 0 :: Actual value from test set: 0 :: Model confidence: 0.0\n",
            "Inception model Prediction: 0 :: Actual value from test set: 0 :: Model confidence: 0.0\n",
            "Inception model Prediction: 0 :: Actual value from test set: 0 :: Model confidence: 0.0\n",
            "Inception model Prediction: 0 :: Actual value from test set: 0 :: Model confidence: 0.0\n",
            "Inception model Prediction: 0 :: Actual value from test set: 0 :: Model confidence: 0.0\n",
            "Inception model Prediction: 0 :: Actual value from test set: 0 :: Model confidence: 0.0\n",
            "Inception model Prediction: 0 :: Actual value from test set: 0 :: Model confidence: 0.0\n",
            "Inception model Prediction: 0 :: Actual value from test set: 0 :: Model confidence: 0.0\n",
            "Inception model Prediction: 0 :: Actual value from test set: 0 :: Model confidence: 0.0\n",
            "Inception model Prediction: 0 :: Actual value from test set: 0 :: Model confidence: 0.0\n",
            "Inception model Prediction: 0 :: Actual value from test set: 0 :: Model confidence: 0.0\n",
            "Inception model Prediction: 0 :: Actual value from test set: 0 :: Model confidence: 0.0\n",
            "Inception model Prediction: 0 :: Actual value from test set: 0 :: Model confidence: 0.0\n",
            "Inception model Prediction: 0 :: Actual value from test set: 0 :: Model confidence: 0.0\n",
            "Inception model Prediction: 0 :: Actual value from test set: 0 :: Model confidence: 0.0\n",
            "Inception model Prediction: 0 :: Actual value from test set: 0 :: Model confidence: 0.0\n",
            "Inception model Prediction: 0 :: Actual value from test set: 0 :: Model confidence: 0.0\n",
            "Inception model Prediction: 0 :: Actual value from test set: 0 :: Model confidence: 0.0\n",
            "Inception model Prediction: 0 :: Actual value from test set: 0 :: Model confidence: 0.0\n",
            "Inception model Prediction: 0 :: Actual value from test set: 0 :: Model confidence: 0.0\n",
            "Inception model Prediction: 0 :: Actual value from test set: 0 :: Model confidence: 0.0\n",
            "Inception model Prediction: 0 :: Actual value from test set: 0 :: Model confidence: 0.0\n",
            "Inception model Prediction: 0 :: Actual value from test set: 0 :: Model confidence: 0.0\n",
            "Inception model Prediction: 0 :: Actual value from test set: 0 :: Model confidence: 0.0\n",
            "Inception model Prediction: 0 :: Actual value from test set: 0 :: Model confidence: 0.0\n",
            "Inception model Prediction: 0 :: Actual value from test set: 0 :: Model confidence: 0.0\n",
            "Inception model Prediction: 0 :: Actual value from test set: 0 :: Model confidence: 0.0\n",
            "Inception model Prediction: 0 :: Actual value from test set: 0 :: Model confidence: 0.0\n",
            "Inception model Prediction: 0 :: Actual value from test set: 0 :: Model confidence: 0.0\n",
            "Inception model Prediction: 0 :: Actual value from test set: 0 :: Model confidence: 0.0\n",
            "Inception model Prediction: 1 :: Actual value from test set: 0 :: Model confidence: 0.0\n",
            "Inception model Prediction: 0 :: Actual value from test set: 0 :: Model confidence: 0.0\n",
            "Inception model Prediction: 1 :: Actual value from test set: 0 :: Model confidence: 0.0\n",
            "Inception model Prediction: 0 :: Actual value from test set: 0 :: Model confidence: 0.0\n",
            "Inception model Prediction: 0 :: Actual value from test set: 0 :: Model confidence: 0.0\n",
            "Inception model Prediction: 0 :: Actual value from test set: 0 :: Model confidence: 0.0\n",
            "Inception model Prediction: 0 :: Actual value from test set: 0 :: Model confidence: 0.0\n",
            "Inception model Prediction: 0 :: Actual value from test set: 0 :: Model confidence: 0.0\n",
            "Inception model Prediction: 0 :: Actual value from test set: 0 :: Model confidence: 0.0\n",
            "Inception model Prediction: 0 :: Actual value from test set: 0 :: Model confidence: 0.0\n",
            "Inception model Prediction: 0 :: Actual value from test set: 0 :: Model confidence: 0.0\n",
            "Inception model Prediction: 0 :: Actual value from test set: 0 :: Model confidence: 0.0\n",
            "Inception model Prediction: 0 :: Actual value from test set: 0 :: Model confidence: 0.0\n",
            "Inception model Prediction: 0 :: Actual value from test set: 0 :: Model confidence: 0.0\n",
            "Inception model Prediction: 1 :: Actual value from test set: 0 :: Model confidence: 0.0\n",
            "Inception model Prediction: 0 :: Actual value from test set: 0 :: Model confidence: 0.0\n",
            "Inception model Prediction: 0 :: Actual value from test set: 0 :: Model confidence: 0.0\n",
            "Inception model Prediction: 0 :: Actual value from test set: 0 :: Model confidence: 0.0\n",
            "Inception model Prediction: 0 :: Actual value from test set: 0 :: Model confidence: 0.0\n",
            "Inception model Prediction: 0 :: Actual value from test set: 0 :: Model confidence: 0.0\n",
            "Inception model Prediction: 0 :: Actual value from test set: 0 :: Model confidence: 0.0\n",
            "Inception model Prediction: 0 :: Actual value from test set: 0 :: Model confidence: 0.0\n",
            "Inception model Prediction: 0 :: Actual value from test set: 0 :: Model confidence: 0.0\n",
            "Inception model Prediction: 0 :: Actual value from test set: 0 :: Model confidence: 0.0\n",
            "Inception model Prediction: 0 :: Actual value from test set: 0 :: Model confidence: 0.0\n",
            "Inception model Prediction: 0 :: Actual value from test set: 0 :: Model confidence: 0.0\n",
            "Inception model Prediction: 0 :: Actual value from test set: 0 :: Model confidence: 0.0\n",
            "Inception model Prediction: 0 :: Actual value from test set: 0 :: Model confidence: 0.0\n",
            "Inception model Prediction: 0 :: Actual value from test set: 0 :: Model confidence: 0.0\n",
            "Inception model Prediction: 0 :: Actual value from test set: 0 :: Model confidence: 0.0\n",
            "Inception model Prediction: 0 :: Actual value from test set: 0 :: Model confidence: 0.0\n",
            "Inception model Prediction: 0 :: Actual value from test set: 0 :: Model confidence: 0.0\n",
            "Inception model Prediction: 0 :: Actual value from test set: 0 :: Model confidence: 0.0\n",
            "Inception model Prediction: 0 :: Actual value from test set: 0 :: Model confidence: 0.0\n",
            "Inception model Prediction: 0 :: Actual value from test set: 0 :: Model confidence: 0.0\n",
            "Inception model Prediction: 0 :: Actual value from test set: 0 :: Model confidence: 0.0\n",
            "Inception model Prediction: 0 :: Actual value from test set: 0 :: Model confidence: 0.0\n",
            "Inception model Prediction: 0 :: Actual value from test set: 0 :: Model confidence: 0.0\n",
            "Inception model Prediction: 0 :: Actual value from test set: 0 :: Model confidence: 0.0\n",
            "Inception model Prediction: 0 :: Actual value from test set: 0 :: Model confidence: 0.0\n",
            "Inception model Prediction: 0 :: Actual value from test set: 0 :: Model confidence: 0.0\n",
            "Inception model Prediction: 0 :: Actual value from test set: 0 :: Model confidence: 0.0\n",
            "Inception model Prediction: 0 :: Actual value from test set: 0 :: Model confidence: 0.0\n",
            "Inception model Prediction: 0 :: Actual value from test set: 0 :: Model confidence: 0.0\n",
            "Inception model Prediction: 0 :: Actual value from test set: 0 :: Model confidence: 0.0\n",
            "Inception model Prediction: 0 :: Actual value from test set: 0 :: Model confidence: 0.0\n",
            "Inception model Prediction: 0 :: Actual value from test set: 0 :: Model confidence: 0.0\n",
            "Inception model Prediction: 0 :: Actual value from test set: 0 :: Model confidence: 0.0\n",
            "Inception model Prediction: 0 :: Actual value from test set: 0 :: Model confidence: 0.0\n",
            "Inception model Prediction: 0 :: Actual value from test set: 0 :: Model confidence: 0.0\n",
            "Inception model Prediction: 0 :: Actual value from test set: 0 :: Model confidence: 0.0\n",
            "Inception model Prediction: 0 :: Actual value from test set: 0 :: Model confidence: 0.0\n",
            "Inception model Prediction: 0 :: Actual value from test set: 0 :: Model confidence: 0.0\n",
            "Inception model Prediction: 0 :: Actual value from test set: 0 :: Model confidence: 0.0\n",
            "Inception model Prediction: 0 :: Actual value from test set: 0 :: Model confidence: 0.0\n",
            "Inception model Prediction: 0 :: Actual value from test set: 0 :: Model confidence: 0.0\n",
            "Inception model Prediction: 0 :: Actual value from test set: 0 :: Model confidence: 0.0\n",
            "Inception model Prediction: 0 :: Actual value from test set: 0 :: Model confidence: 0.0\n",
            "Inception model Prediction: 0 :: Actual value from test set: 0 :: Model confidence: 0.0\n",
            "Inception model Prediction: 0 :: Actual value from test set: 0 :: Model confidence: 0.0\n",
            "Inception model Prediction: 0 :: Actual value from test set: 0 :: Model confidence: 0.0\n",
            "Inception model Prediction: 0 :: Actual value from test set: 0 :: Model confidence: 0.0\n",
            "Inception model Prediction: 0 :: Actual value from test set: 0 :: Model confidence: 0.0\n",
            "Inception model Prediction: 0 :: Actual value from test set: 0 :: Model confidence: 0.0\n",
            "Inception model Prediction: 0 :: Actual value from test set: 0 :: Model confidence: 0.0\n",
            "Inception model Prediction: 0 :: Actual value from test set: 0 :: Model confidence: 0.0\n",
            "Inception model Prediction: 0 :: Actual value from test set: 0 :: Model confidence: 0.0\n",
            "Inception model Prediction: 0 :: Actual value from test set: 0 :: Model confidence: 0.0\n",
            "Inception model Prediction: 0 :: Actual value from test set: 0 :: Model confidence: 0.0\n",
            "Inception model Prediction: 0 :: Actual value from test set: 0 :: Model confidence: 0.0\n",
            "Inception model Prediction: 0 :: Actual value from test set: 0 :: Model confidence: 0.0\n",
            "Inception model Prediction: 0 :: Actual value from test set: 0 :: Model confidence: 0.0\n",
            "Inception model Prediction: 0 :: Actual value from test set: 0 :: Model confidence: 0.0\n",
            "Inception model Prediction: 0 :: Actual value from test set: 0 :: Model confidence: 0.0\n",
            "Inception model Prediction: 0 :: Actual value from test set: 0 :: Model confidence: 0.0\n",
            "Inception model Prediction: 0 :: Actual value from test set: 0 :: Model confidence: 0.0\n",
            "Inception model Prediction: 0 :: Actual value from test set: 0 :: Model confidence: 0.0\n",
            "Inception model Prediction: 0 :: Actual value from test set: 0 :: Model confidence: 0.0\n",
            "Inception model Prediction: 0 :: Actual value from test set: 0 :: Model confidence: 0.0\n",
            "Inception model Prediction: 0 :: Actual value from test set: 0 :: Model confidence: 0.0\n",
            "Inception model Prediction: 0 :: Actual value from test set: 0 :: Model confidence: 0.0\n",
            "Inception model Prediction: 0 :: Actual value from test set: 0 :: Model confidence: 0.0\n",
            "Inception model Prediction: 0 :: Actual value from test set: 0 :: Model confidence: 0.0\n",
            "Inception model Prediction: 0 :: Actual value from test set: 0 :: Model confidence: 0.0\n",
            "Inception model Prediction: 0 :: Actual value from test set: 0 :: Model confidence: 0.0\n",
            "Inception model Prediction: 0 :: Actual value from test set: 0 :: Model confidence: 0.0\n",
            "Inception model Prediction: 0 :: Actual value from test set: 0 :: Model confidence: 0.0\n",
            "Inception model Prediction: 0 :: Actual value from test set: 0 :: Model confidence: 0.0\n",
            "Inception model Prediction: 0 :: Actual value from test set: 0 :: Model confidence: 0.0\n",
            "Inception model Prediction: 0 :: Actual value from test set: 0 :: Model confidence: 0.0\n",
            "Inception model Prediction: 0 :: Actual value from test set: 0 :: Model confidence: 0.0\n",
            "Inception model Prediction: 0 :: Actual value from test set: 0 :: Model confidence: 0.0\n",
            "Inception model Prediction: 0 :: Actual value from test set: 0 :: Model confidence: 0.0\n",
            "Inception model Prediction: 0 :: Actual value from test set: 0 :: Model confidence: 0.0\n",
            "Inception model Prediction: 0 :: Actual value from test set: 0 :: Model confidence: 0.0\n",
            "Inception model Prediction: 0 :: Actual value from test set: 0 :: Model confidence: 0.0\n",
            "Inception model Prediction: 0 :: Actual value from test set: 0 :: Model confidence: 0.0\n",
            "Inception model Prediction: 0 :: Actual value from test set: 0 :: Model confidence: 0.0\n",
            "Inception model Prediction: 0 :: Actual value from test set: 0 :: Model confidence: 0.0\n",
            "Inception model Prediction: 0 :: Actual value from test set: 0 :: Model confidence: 0.0\n",
            "Inception model Prediction: 0 :: Actual value from test set: 0 :: Model confidence: 0.0\n",
            "Inception model Prediction: 0 :: Actual value from test set: 0 :: Model confidence: 0.0\n",
            "Inception model Prediction: 0 :: Actual value from test set: 0 :: Model confidence: 0.0\n",
            "Inception model Prediction: 0 :: Actual value from test set: 0 :: Model confidence: 0.0\n",
            "Inception model Prediction: 0 :: Actual value from test set: 0 :: Model confidence: 0.0\n",
            "Inception model Prediction: 0 :: Actual value from test set: 0 :: Model confidence: 0.0\n",
            "Inception model Prediction: 0 :: Actual value from test set: 0 :: Model confidence: 0.0\n",
            "Inception model Prediction: 0 :: Actual value from test set: 0 :: Model confidence: 0.0\n",
            "Inception model Prediction: 0 :: Actual value from test set: 0 :: Model confidence: 0.1\n",
            "Inception model Prediction: 0 :: Actual value from test set: 0 :: Model confidence: 0.0\n",
            "Inception model Prediction: 0 :: Actual value from test set: 0 :: Model confidence: 0.0\n",
            "Inception model Prediction: 0 :: Actual value from test set: 0 :: Model confidence: 0.0\n",
            "Inception model Prediction: 0 :: Actual value from test set: 0 :: Model confidence: 0.0\n",
            "Inception model Prediction: 1 :: Actual value from test set: 0 :: Model confidence: 0.0\n",
            "Inception model Prediction: 0 :: Actual value from test set: 0 :: Model confidence: 0.0\n",
            "Inception model Prediction: 0 :: Actual value from test set: 0 :: Model confidence: 0.0\n",
            "Inception model Prediction: 1 :: Actual value from test set: 0 :: Model confidence: 0.0\n",
            "Inception model Prediction: 0 :: Actual value from test set: 0 :: Model confidence: 0.0\n",
            "Inception model Prediction: 0 :: Actual value from test set: 0 :: Model confidence: 0.0\n",
            "Inception model Prediction: 1 :: Actual value from test set: 0 :: Model confidence: 0.0\n",
            "Inception model Prediction: 0 :: Actual value from test set: 0 :: Model confidence: 0.0\n",
            "Inception model Prediction: 0 :: Actual value from test set: 0 :: Model confidence: 0.0\n",
            "Inception model Prediction: 0 :: Actual value from test set: 0 :: Model confidence: 0.0\n",
            "Inception model Prediction: 0 :: Actual value from test set: 0 :: Model confidence: 0.0\n",
            "Inception model Prediction: 0 :: Actual value from test set: 0 :: Model confidence: 0.0\n",
            "Inception model Prediction: 0 :: Actual value from test set: 0 :: Model confidence: 0.0\n",
            "Inception model Prediction: 0 :: Actual value from test set: 0 :: Model confidence: 0.0\n",
            "Inception model Prediction: 0 :: Actual value from test set: 0 :: Model confidence: 0.0\n",
            "Inception model Prediction: 0 :: Actual value from test set: 0 :: Model confidence: 0.0\n",
            "Inception model Prediction: 0 :: Actual value from test set: 0 :: Model confidence: 0.0\n",
            "Inception model Prediction: 1 :: Actual value from test set: 0 :: Model confidence: 0.0\n",
            "Inception model Prediction: 0 :: Actual value from test set: 0 :: Model confidence: 0.0\n",
            "Inception model Prediction: 0 :: Actual value from test set: 0 :: Model confidence: 0.0\n",
            "Inception model Prediction: 0 :: Actual value from test set: 0 :: Model confidence: 0.0\n",
            "Inception model Prediction: 0 :: Actual value from test set: 0 :: Model confidence: 0.0\n",
            "Inception model Prediction: 0 :: Actual value from test set: 0 :: Model confidence: 0.0\n",
            "Inception model Prediction: 0 :: Actual value from test set: 0 :: Model confidence: 0.0\n",
            "Inception model Prediction: 0 :: Actual value from test set: 0 :: Model confidence: 0.0\n",
            "Inception model Prediction: 0 :: Actual value from test set: 0 :: Model confidence: 0.0\n",
            "Inception model Prediction: 0 :: Actual value from test set: 0 :: Model confidence: 0.0\n",
            "Inception model Prediction: 0 :: Actual value from test set: 0 :: Model confidence: 0.0\n",
            "Inception model Prediction: 0 :: Actual value from test set: 0 :: Model confidence: 0.0\n",
            "Inception model Prediction: 0 :: Actual value from test set: 0 :: Model confidence: 0.0\n",
            "Inception model Prediction: 0 :: Actual value from test set: 0 :: Model confidence: 0.0\n",
            "Inception model Prediction: 0 :: Actual value from test set: 0 :: Model confidence: 0.0\n",
            "Inception model Prediction: 0 :: Actual value from test set: 0 :: Model confidence: 0.0\n",
            "Inception model Prediction: 0 :: Actual value from test set: 0 :: Model confidence: 0.0\n",
            "Inception model Prediction: 0 :: Actual value from test set: 0 :: Model confidence: 0.0\n",
            "Inception model Prediction: 0 :: Actual value from test set: 0 :: Model confidence: 0.0\n",
            "Inception model Prediction: 0 :: Actual value from test set: 0 :: Model confidence: 0.0\n",
            "Inception model Prediction: 0 :: Actual value from test set: 0 :: Model confidence: 0.0\n",
            "Inception model Prediction: 0 :: Actual value from test set: 0 :: Model confidence: 0.0\n",
            "Inception model Prediction: 0 :: Actual value from test set: 0 :: Model confidence: 0.0\n",
            "Inception model Prediction: 0 :: Actual value from test set: 0 :: Model confidence: 0.0\n",
            "Inception model Prediction: 0 :: Actual value from test set: 0 :: Model confidence: 0.0\n",
            "Inception model Prediction: 0 :: Actual value from test set: 0 :: Model confidence: 0.0\n",
            "Inception model Prediction: 0 :: Actual value from test set: 0 :: Model confidence: 0.0\n",
            "Inception model Prediction: 0 :: Actual value from test set: 0 :: Model confidence: 0.0\n",
            "Inception model Prediction: 0 :: Actual value from test set: 0 :: Model confidence: 0.0\n",
            "Inception model Prediction: 0 :: Actual value from test set: 0 :: Model confidence: 0.0\n",
            "Inception model Prediction: 0 :: Actual value from test set: 0 :: Model confidence: 0.0\n",
            "Inception model Prediction: 0 :: Actual value from test set: 0 :: Model confidence: 0.0\n",
            "Inception model Prediction: 0 :: Actual value from test set: 0 :: Model confidence: 0.0\n",
            "Inception model Prediction: 0 :: Actual value from test set: 0 :: Model confidence: 0.0\n",
            "Inception model Prediction: 0 :: Actual value from test set: 0 :: Model confidence: 0.0\n",
            "Inception model Prediction: 1 :: Actual value from test set: 1 :: Model confidence: 0.0\n",
            "Inception model Prediction: 1 :: Actual value from test set: 1 :: Model confidence: 0.0\n",
            "Inception model Prediction: 1 :: Actual value from test set: 1 :: Model confidence: 0.0\n",
            "Inception model Prediction: 1 :: Actual value from test set: 1 :: Model confidence: 0.0\n",
            "Inception model Prediction: 1 :: Actual value from test set: 1 :: Model confidence: 0.0\n",
            "Inception model Prediction: 1 :: Actual value from test set: 1 :: Model confidence: 0.0\n",
            "Inception model Prediction: 1 :: Actual value from test set: 1 :: Model confidence: 0.0\n",
            "Inception model Prediction: 1 :: Actual value from test set: 1 :: Model confidence: 0.0\n",
            "Inception model Prediction: 1 :: Actual value from test set: 1 :: Model confidence: 0.0\n",
            "Inception model Prediction: 1 :: Actual value from test set: 1 :: Model confidence: 0.0\n",
            "Inception model Prediction: 1 :: Actual value from test set: 1 :: Model confidence: 0.0\n",
            "Inception model Prediction: 1 :: Actual value from test set: 1 :: Model confidence: 0.0\n",
            "Inception model Prediction: 1 :: Actual value from test set: 1 :: Model confidence: 0.0\n",
            "Inception model Prediction: 1 :: Actual value from test set: 1 :: Model confidence: 0.0\n",
            "Inception model Prediction: 1 :: Actual value from test set: 1 :: Model confidence: 0.0\n",
            "Inception model Prediction: 1 :: Actual value from test set: 1 :: Model confidence: 0.0\n",
            "Inception model Prediction: 1 :: Actual value from test set: 1 :: Model confidence: 0.0\n",
            "Inception model Prediction: 1 :: Actual value from test set: 1 :: Model confidence: 0.0\n",
            "Inception model Prediction: 1 :: Actual value from test set: 1 :: Model confidence: 0.0\n",
            "Inception model Prediction: 1 :: Actual value from test set: 1 :: Model confidence: 0.0\n",
            "Inception model Prediction: 1 :: Actual value from test set: 1 :: Model confidence: 0.0\n",
            "Inception model Prediction: 1 :: Actual value from test set: 1 :: Model confidence: 0.0\n",
            "Inception model Prediction: 1 :: Actual value from test set: 1 :: Model confidence: 0.3\n",
            "Inception model Prediction: 1 :: Actual value from test set: 1 :: Model confidence: 0.0\n",
            "Inception model Prediction: 1 :: Actual value from test set: 1 :: Model confidence: 0.0\n",
            "Inception model Prediction: 1 :: Actual value from test set: 1 :: Model confidence: 0.0\n",
            "Inception model Prediction: 1 :: Actual value from test set: 1 :: Model confidence: 0.0\n",
            "Inception model Prediction: 1 :: Actual value from test set: 1 :: Model confidence: 0.0\n",
            "Inception model Prediction: 1 :: Actual value from test set: 1 :: Model confidence: 0.0\n",
            "Inception model Prediction: 1 :: Actual value from test set: 1 :: Model confidence: 0.0\n",
            "Inception model Prediction: 1 :: Actual value from test set: 1 :: Model confidence: 0.0\n",
            "Inception model Prediction: 1 :: Actual value from test set: 1 :: Model confidence: 0.0\n",
            "Inception model Prediction: 1 :: Actual value from test set: 1 :: Model confidence: 0.0\n",
            "Inception model Prediction: 1 :: Actual value from test set: 1 :: Model confidence: 0.0\n",
            "Inception model Prediction: 1 :: Actual value from test set: 1 :: Model confidence: 0.0\n",
            "Inception model Prediction: 1 :: Actual value from test set: 1 :: Model confidence: 0.0\n",
            "Inception model Prediction: 1 :: Actual value from test set: 1 :: Model confidence: 0.0\n",
            "Inception model Prediction: 1 :: Actual value from test set: 1 :: Model confidence: 0.0\n",
            "Inception model Prediction: 1 :: Actual value from test set: 1 :: Model confidence: 0.0\n",
            "Inception model Prediction: 1 :: Actual value from test set: 1 :: Model confidence: 0.0\n",
            "Inception model Prediction: 1 :: Actual value from test set: 1 :: Model confidence: 0.0\n",
            "Inception model Prediction: 1 :: Actual value from test set: 1 :: Model confidence: 0.0\n",
            "Inception model Prediction: 1 :: Actual value from test set: 1 :: Model confidence: 0.0\n",
            "Inception model Prediction: 1 :: Actual value from test set: 1 :: Model confidence: 0.0\n",
            "Inception model Prediction: 1 :: Actual value from test set: 1 :: Model confidence: 0.0\n",
            "Inception model Prediction: 1 :: Actual value from test set: 1 :: Model confidence: 0.0\n",
            "Inception model Prediction: 1 :: Actual value from test set: 1 :: Model confidence: 0.0\n",
            "Inception model Prediction: 1 :: Actual value from test set: 1 :: Model confidence: 0.0\n",
            "Inception model Prediction: 1 :: Actual value from test set: 1 :: Model confidence: 0.0\n",
            "Inception model Prediction: 1 :: Actual value from test set: 1 :: Model confidence: 0.0\n",
            "Inception model Prediction: 1 :: Actual value from test set: 1 :: Model confidence: 0.0\n",
            "Inception model Prediction: 1 :: Actual value from test set: 1 :: Model confidence: 0.0\n",
            "Inception model Prediction: 1 :: Actual value from test set: 1 :: Model confidence: 0.0\n",
            "Inception model Prediction: 1 :: Actual value from test set: 1 :: Model confidence: 0.0\n",
            "Inception model Prediction: 1 :: Actual value from test set: 1 :: Model confidence: 0.0\n",
            "Inception model Prediction: 1 :: Actual value from test set: 1 :: Model confidence: 0.0\n",
            "Inception model Prediction: 1 :: Actual value from test set: 1 :: Model confidence: 0.0\n",
            "Inception model Prediction: 1 :: Actual value from test set: 1 :: Model confidence: 0.0\n",
            "Inception model Prediction: 1 :: Actual value from test set: 1 :: Model confidence: 0.0\n",
            "Inception model Prediction: 1 :: Actual value from test set: 1 :: Model confidence: 0.0\n",
            "Inception model Prediction: 1 :: Actual value from test set: 1 :: Model confidence: 0.0\n",
            "Inception model Prediction: 1 :: Actual value from test set: 1 :: Model confidence: 0.0\n",
            "Inception model Prediction: 1 :: Actual value from test set: 1 :: Model confidence: 0.0\n",
            "Inception model Prediction: 1 :: Actual value from test set: 1 :: Model confidence: 0.0\n",
            "Inception model Prediction: 1 :: Actual value from test set: 1 :: Model confidence: 0.0\n",
            "Inception model Prediction: 1 :: Actual value from test set: 1 :: Model confidence: 0.0\n",
            "Inception model Prediction: 1 :: Actual value from test set: 1 :: Model confidence: 0.0\n",
            "Inception model Prediction: 1 :: Actual value from test set: 1 :: Model confidence: 0.0\n",
            "Inception model Prediction: 1 :: Actual value from test set: 1 :: Model confidence: 0.0\n",
            "Inception model Prediction: 1 :: Actual value from test set: 1 :: Model confidence: 0.0\n",
            "Inception model Prediction: 1 :: Actual value from test set: 1 :: Model confidence: 0.0\n",
            "Inception model Prediction: 1 :: Actual value from test set: 1 :: Model confidence: 0.0\n",
            "Inception model Prediction: 1 :: Actual value from test set: 1 :: Model confidence: 0.0\n",
            "Inception model Prediction: 1 :: Actual value from test set: 1 :: Model confidence: 0.0\n",
            "Inception model Prediction: 1 :: Actual value from test set: 1 :: Model confidence: 0.0\n",
            "Inception model Prediction: 1 :: Actual value from test set: 1 :: Model confidence: 0.0\n",
            "Inception model Prediction: 1 :: Actual value from test set: 1 :: Model confidence: 0.0\n",
            "Inception model Prediction: 1 :: Actual value from test set: 1 :: Model confidence: 0.0\n",
            "Inception model Prediction: 1 :: Actual value from test set: 1 :: Model confidence: 0.0\n",
            "Inception model Prediction: 1 :: Actual value from test set: 1 :: Model confidence: 0.0\n",
            "Inception model Prediction: 1 :: Actual value from test set: 1 :: Model confidence: 0.0\n",
            "Inception model Prediction: 1 :: Actual value from test set: 1 :: Model confidence: 0.0\n",
            "Inception model Prediction: 1 :: Actual value from test set: 1 :: Model confidence: 0.0\n",
            "Inception model Prediction: 1 :: Actual value from test set: 1 :: Model confidence: 0.0\n",
            "Inception model Prediction: 1 :: Actual value from test set: 1 :: Model confidence: 0.0\n",
            "Inception model Prediction: 1 :: Actual value from test set: 1 :: Model confidence: 0.0\n",
            "Inception model Prediction: 1 :: Actual value from test set: 1 :: Model confidence: 0.0\n",
            "Inception model Prediction: 1 :: Actual value from test set: 1 :: Model confidence: 0.0\n",
            "Inception model Prediction: 1 :: Actual value from test set: 1 :: Model confidence: 0.0\n",
            "Inception model Prediction: 1 :: Actual value from test set: 1 :: Model confidence: 0.0\n",
            "Inception model Prediction: 1 :: Actual value from test set: 1 :: Model confidence: 0.0\n",
            "Inception model Prediction: 1 :: Actual value from test set: 1 :: Model confidence: 0.0\n",
            "Inception model Prediction: 1 :: Actual value from test set: 1 :: Model confidence: 0.0\n",
            "Inception model Prediction: 0 :: Actual value from test set: 1 :: Model confidence: 0.0\n",
            "Inception model Prediction: 1 :: Actual value from test set: 1 :: Model confidence: 0.0\n",
            "Inception model Prediction: 1 :: Actual value from test set: 1 :: Model confidence: 0.0\n",
            "Inception model Prediction: 1 :: Actual value from test set: 1 :: Model confidence: 0.0\n",
            "Inception model Prediction: 1 :: Actual value from test set: 1 :: Model confidence: 0.0\n",
            "Inception model Prediction: 1 :: Actual value from test set: 1 :: Model confidence: 0.0\n",
            "Inception model Prediction: 1 :: Actual value from test set: 1 :: Model confidence: 0.0\n",
            "Inception model Prediction: 1 :: Actual value from test set: 1 :: Model confidence: 0.0\n",
            "Inception model Prediction: 0 :: Actual value from test set: 1 :: Model confidence: 0.0\n",
            "Inception model Prediction: 1 :: Actual value from test set: 1 :: Model confidence: 0.0\n",
            "Inception model Prediction: 1 :: Actual value from test set: 1 :: Model confidence: 0.0\n",
            "Inception model Prediction: 1 :: Actual value from test set: 1 :: Model confidence: 0.0\n",
            "Inception model Prediction: 1 :: Actual value from test set: 1 :: Model confidence: 0.0\n",
            "Inception model Prediction: 1 :: Actual value from test set: 1 :: Model confidence: 0.0\n",
            "Inception model Prediction: 1 :: Actual value from test set: 1 :: Model confidence: 0.0\n",
            "Inception model Prediction: 1 :: Actual value from test set: 1 :: Model confidence: 0.0\n",
            "Inception model Prediction: 1 :: Actual value from test set: 1 :: Model confidence: 0.0\n",
            "Inception model Prediction: 1 :: Actual value from test set: 1 :: Model confidence: 0.0\n",
            "Inception model Prediction: 1 :: Actual value from test set: 1 :: Model confidence: 0.0\n",
            "Inception model Prediction: 1 :: Actual value from test set: 1 :: Model confidence: 0.0\n",
            "Inception model Prediction: 1 :: Actual value from test set: 1 :: Model confidence: 0.0\n",
            "Inception model Prediction: 1 :: Actual value from test set: 1 :: Model confidence: 0.0\n",
            "Inception model Prediction: 1 :: Actual value from test set: 1 :: Model confidence: 0.0\n",
            "Inception model Prediction: 1 :: Actual value from test set: 1 :: Model confidence: 0.0\n",
            "Inception model Prediction: 1 :: Actual value from test set: 1 :: Model confidence: 0.0\n",
            "Inception model Prediction: 1 :: Actual value from test set: 1 :: Model confidence: 0.0\n",
            "Inception model Prediction: 1 :: Actual value from test set: 1 :: Model confidence: 0.0\n",
            "Inception model Prediction: 1 :: Actual value from test set: 1 :: Model confidence: 0.0\n",
            "Inception model Prediction: 1 :: Actual value from test set: 1 :: Model confidence: 0.0\n",
            "Inception model Prediction: 1 :: Actual value from test set: 1 :: Model confidence: 0.0\n",
            "Inception model Prediction: 1 :: Actual value from test set: 1 :: Model confidence: 0.0\n",
            "Inception model Prediction: 1 :: Actual value from test set: 1 :: Model confidence: 0.0\n",
            "Inception model Prediction: 1 :: Actual value from test set: 1 :: Model confidence: 0.0\n",
            "Inception model Prediction: 1 :: Actual value from test set: 1 :: Model confidence: 0.0\n",
            "Inception model Prediction: 1 :: Actual value from test set: 1 :: Model confidence: 0.0\n",
            "Inception model Prediction: 1 :: Actual value from test set: 1 :: Model confidence: 0.0\n",
            "Inception model Prediction: 1 :: Actual value from test set: 1 :: Model confidence: 0.0\n",
            "Inception model Prediction: 1 :: Actual value from test set: 1 :: Model confidence: 0.0\n",
            "Inception model Prediction: 1 :: Actual value from test set: 1 :: Model confidence: 0.0\n",
            "Inception model Prediction: 1 :: Actual value from test set: 1 :: Model confidence: 0.0\n",
            "Inception model Prediction: 1 :: Actual value from test set: 1 :: Model confidence: 0.0\n",
            "Inception model Prediction: 1 :: Actual value from test set: 1 :: Model confidence: 0.0\n",
            "Inception model Prediction: 1 :: Actual value from test set: 1 :: Model confidence: 0.0\n",
            "Inception model Prediction: 1 :: Actual value from test set: 1 :: Model confidence: 0.0\n",
            "Inception model Prediction: 1 :: Actual value from test set: 1 :: Model confidence: 0.0\n",
            "Inception model Prediction: 1 :: Actual value from test set: 1 :: Model confidence: 0.0\n",
            "Inception model Prediction: 1 :: Actual value from test set: 1 :: Model confidence: 0.0\n",
            "Inception model Prediction: 1 :: Actual value from test set: 1 :: Model confidence: 0.0\n",
            "Inception model Prediction: 1 :: Actual value from test set: 1 :: Model confidence: 0.0\n",
            "Inception model Prediction: 1 :: Actual value from test set: 1 :: Model confidence: 0.0\n",
            "Inception model Prediction: 1 :: Actual value from test set: 1 :: Model confidence: 0.0\n",
            "Inception model Prediction: 1 :: Actual value from test set: 1 :: Model confidence: 0.0\n",
            "Inception model Prediction: 1 :: Actual value from test set: 1 :: Model confidence: 0.0\n",
            "Inception model Prediction: 1 :: Actual value from test set: 1 :: Model confidence: 0.0\n",
            "Inception model Prediction: 1 :: Actual value from test set: 1 :: Model confidence: 0.0\n",
            "Inception model Prediction: 1 :: Actual value from test set: 1 :: Model confidence: 0.0\n",
            "Inception model Prediction: 1 :: Actual value from test set: 1 :: Model confidence: 0.0\n",
            "Inception model Prediction: 1 :: Actual value from test set: 1 :: Model confidence: 0.0\n",
            "Inception model Prediction: 1 :: Actual value from test set: 1 :: Model confidence: 0.0\n",
            "Inception model Prediction: 1 :: Actual value from test set: 1 :: Model confidence: 0.0\n",
            "Inception model Prediction: 1 :: Actual value from test set: 1 :: Model confidence: 0.0\n",
            "Inception model Prediction: 1 :: Actual value from test set: 1 :: Model confidence: 0.0\n",
            "Inception model Prediction: 1 :: Actual value from test set: 1 :: Model confidence: 0.0\n",
            "Inception model Prediction: 1 :: Actual value from test set: 1 :: Model confidence: 0.0\n",
            "Inception model Prediction: 1 :: Actual value from test set: 1 :: Model confidence: 0.0\n",
            "Inception model Prediction: 1 :: Actual value from test set: 1 :: Model confidence: 0.0\n",
            "Inception model Prediction: 1 :: Actual value from test set: 1 :: Model confidence: 0.0\n",
            "Inception model Prediction: 1 :: Actual value from test set: 1 :: Model confidence: 0.0\n",
            "Inception model Prediction: 1 :: Actual value from test set: 1 :: Model confidence: 0.0\n",
            "Inception model Prediction: 1 :: Actual value from test set: 1 :: Model confidence: 0.0\n",
            "Inception model Prediction: 1 :: Actual value from test set: 1 :: Model confidence: 0.0\n",
            "Inception model Prediction: 1 :: Actual value from test set: 1 :: Model confidence: 0.0\n",
            "Inception model Prediction: 1 :: Actual value from test set: 1 :: Model confidence: 0.0\n",
            "Inception model Prediction: 1 :: Actual value from test set: 1 :: Model confidence: 0.0\n",
            "Inception model Prediction: 1 :: Actual value from test set: 1 :: Model confidence: 0.0\n",
            "Inception model Prediction: 2 :: Actual value from test set: 1 :: Model confidence: 1.0\n",
            "Inception model Prediction: 1 :: Actual value from test set: 1 :: Model confidence: 0.0\n",
            "Inception model Prediction: 1 :: Actual value from test set: 1 :: Model confidence: 0.0\n",
            "Inception model Prediction: 1 :: Actual value from test set: 1 :: Model confidence: 0.0\n",
            "Inception model Prediction: 1 :: Actual value from test set: 1 :: Model confidence: 0.0\n",
            "Inception model Prediction: 1 :: Actual value from test set: 1 :: Model confidence: 0.0\n",
            "Inception model Prediction: 1 :: Actual value from test set: 1 :: Model confidence: 0.0\n",
            "Inception model Prediction: 1 :: Actual value from test set: 1 :: Model confidence: 0.0\n",
            "Inception model Prediction: 1 :: Actual value from test set: 1 :: Model confidence: 0.0\n",
            "Inception model Prediction: 1 :: Actual value from test set: 1 :: Model confidence: 0.0\n",
            "Inception model Prediction: 1 :: Actual value from test set: 1 :: Model confidence: 0.0\n",
            "Inception model Prediction: 1 :: Actual value from test set: 1 :: Model confidence: 0.0\n",
            "Inception model Prediction: 1 :: Actual value from test set: 1 :: Model confidence: 0.1\n",
            "Inception model Prediction: 1 :: Actual value from test set: 1 :: Model confidence: 0.0\n",
            "Inception model Prediction: 1 :: Actual value from test set: 1 :: Model confidence: 0.0\n",
            "Inception model Prediction: 1 :: Actual value from test set: 1 :: Model confidence: 0.0\n",
            "Inception model Prediction: 1 :: Actual value from test set: 1 :: Model confidence: 0.0\n",
            "Inception model Prediction: 1 :: Actual value from test set: 1 :: Model confidence: 0.0\n",
            "Inception model Prediction: 1 :: Actual value from test set: 1 :: Model confidence: 0.0\n",
            "Inception model Prediction: 1 :: Actual value from test set: 1 :: Model confidence: 0.0\n",
            "Inception model Prediction: 1 :: Actual value from test set: 1 :: Model confidence: 0.0\n",
            "Inception model Prediction: 1 :: Actual value from test set: 1 :: Model confidence: 0.0\n",
            "Inception model Prediction: 1 :: Actual value from test set: 1 :: Model confidence: 0.0\n",
            "Inception model Prediction: 1 :: Actual value from test set: 1 :: Model confidence: 0.0\n",
            "Inception model Prediction: 1 :: Actual value from test set: 1 :: Model confidence: 0.0\n",
            "Inception model Prediction: 1 :: Actual value from test set: 1 :: Model confidence: 0.1\n",
            "Inception model Prediction: 1 :: Actual value from test set: 1 :: Model confidence: 0.0\n",
            "Inception model Prediction: 1 :: Actual value from test set: 1 :: Model confidence: 0.0\n",
            "Inception model Prediction: 1 :: Actual value from test set: 1 :: Model confidence: 0.0\n",
            "Inception model Prediction: 1 :: Actual value from test set: 1 :: Model confidence: 0.0\n",
            "Inception model Prediction: 1 :: Actual value from test set: 1 :: Model confidence: 0.0\n",
            "Inception model Prediction: 1 :: Actual value from test set: 1 :: Model confidence: 0.0\n",
            "Inception model Prediction: 2 :: Actual value from test set: 2 :: Model confidence: 1.0\n",
            "Inception model Prediction: 2 :: Actual value from test set: 2 :: Model confidence: 1.0\n",
            "Inception model Prediction: 2 :: Actual value from test set: 2 :: Model confidence: 1.0\n",
            "Inception model Prediction: 2 :: Actual value from test set: 2 :: Model confidence: 1.0\n",
            "Inception model Prediction: 2 :: Actual value from test set: 2 :: Model confidence: 1.0\n",
            "Inception model Prediction: 2 :: Actual value from test set: 2 :: Model confidence: 1.0\n",
            "Inception model Prediction: 2 :: Actual value from test set: 2 :: Model confidence: 1.0\n",
            "Inception model Prediction: 2 :: Actual value from test set: 2 :: Model confidence: 1.0\n",
            "Inception model Prediction: 2 :: Actual value from test set: 2 :: Model confidence: 1.0\n",
            "Inception model Prediction: 2 :: Actual value from test set: 2 :: Model confidence: 1.0\n",
            "Inception model Prediction: 2 :: Actual value from test set: 2 :: Model confidence: 1.0\n",
            "Inception model Prediction: 2 :: Actual value from test set: 2 :: Model confidence: 1.0\n",
            "Inception model Prediction: 2 :: Actual value from test set: 2 :: Model confidence: 1.0\n",
            "Inception model Prediction: 2 :: Actual value from test set: 2 :: Model confidence: 1.0\n",
            "Inception model Prediction: 2 :: Actual value from test set: 2 :: Model confidence: 1.0\n",
            "Inception model Prediction: 2 :: Actual value from test set: 2 :: Model confidence: 1.0\n",
            "Inception model Prediction: 2 :: Actual value from test set: 2 :: Model confidence: 1.0\n",
            "Inception model Prediction: 2 :: Actual value from test set: 2 :: Model confidence: 1.0\n",
            "Inception model Prediction: 2 :: Actual value from test set: 2 :: Model confidence: 1.0\n",
            "Inception model Prediction: 2 :: Actual value from test set: 2 :: Model confidence: 1.0\n",
            "Inception model Prediction: 2 :: Actual value from test set: 2 :: Model confidence: 1.0\n",
            "Inception model Prediction: 2 :: Actual value from test set: 2 :: Model confidence: 1.0\n",
            "Inception model Prediction: 2 :: Actual value from test set: 2 :: Model confidence: 1.0\n",
            "Inception model Prediction: 2 :: Actual value from test set: 2 :: Model confidence: 1.0\n",
            "Inception model Prediction: 2 :: Actual value from test set: 2 :: Model confidence: 1.0\n",
            "Inception model Prediction: 2 :: Actual value from test set: 2 :: Model confidence: 1.0\n",
            "Inception model Prediction: 2 :: Actual value from test set: 2 :: Model confidence: 1.0\n",
            "Inception model Prediction: 2 :: Actual value from test set: 2 :: Model confidence: 1.0\n",
            "Inception model Prediction: 2 :: Actual value from test set: 2 :: Model confidence: 1.0\n",
            "Inception model Prediction: 2 :: Actual value from test set: 2 :: Model confidence: 1.0\n",
            "Inception model Prediction: 2 :: Actual value from test set: 2 :: Model confidence: 1.0\n",
            "Inception model Prediction: 2 :: Actual value from test set: 2 :: Model confidence: 1.0\n",
            "Inception model Prediction: 2 :: Actual value from test set: 2 :: Model confidence: 1.0\n",
            "Inception model Prediction: 2 :: Actual value from test set: 2 :: Model confidence: 1.0\n",
            "Inception model Prediction: 2 :: Actual value from test set: 2 :: Model confidence: 1.0\n",
            "Inception model Prediction: 2 :: Actual value from test set: 2 :: Model confidence: 1.0\n",
            "Inception model Prediction: 2 :: Actual value from test set: 2 :: Model confidence: 1.0\n",
            "Inception model Prediction: 2 :: Actual value from test set: 2 :: Model confidence: 1.0\n",
            "Inception model Prediction: 2 :: Actual value from test set: 2 :: Model confidence: 1.0\n",
            "Inception model Prediction: 2 :: Actual value from test set: 2 :: Model confidence: 1.0\n",
            "Inception model Prediction: 2 :: Actual value from test set: 2 :: Model confidence: 1.0\n",
            "Inception model Prediction: 2 :: Actual value from test set: 2 :: Model confidence: 1.0\n",
            "Inception model Prediction: 2 :: Actual value from test set: 2 :: Model confidence: 1.0\n",
            "Inception model Prediction: 2 :: Actual value from test set: 2 :: Model confidence: 1.0\n",
            "Inception model Prediction: 2 :: Actual value from test set: 2 :: Model confidence: 1.0\n",
            "Inception model Prediction: 2 :: Actual value from test set: 2 :: Model confidence: 1.0\n",
            "Inception model Prediction: 2 :: Actual value from test set: 2 :: Model confidence: 1.0\n",
            "Inception model Prediction: 2 :: Actual value from test set: 2 :: Model confidence: 1.0\n",
            "Inception model Prediction: 2 :: Actual value from test set: 2 :: Model confidence: 1.0\n",
            "Inception model Prediction: 2 :: Actual value from test set: 2 :: Model confidence: 1.0\n",
            "Inception model Prediction: 2 :: Actual value from test set: 2 :: Model confidence: 1.0\n",
            "Inception model Prediction: 2 :: Actual value from test set: 2 :: Model confidence: 1.0\n",
            "Inception model Prediction: 2 :: Actual value from test set: 2 :: Model confidence: 1.0\n",
            "Inception model Prediction: 2 :: Actual value from test set: 2 :: Model confidence: 1.0\n",
            "Inception model Prediction: 2 :: Actual value from test set: 2 :: Model confidence: 1.0\n",
            "Inception model Prediction: 2 :: Actual value from test set: 2 :: Model confidence: 1.0\n",
            "Inception model Prediction: 2 :: Actual value from test set: 2 :: Model confidence: 1.0\n",
            "Inception model Prediction: 2 :: Actual value from test set: 2 :: Model confidence: 1.0\n",
            "Inception model Prediction: 2 :: Actual value from test set: 2 :: Model confidence: 1.0\n",
            "Inception model Prediction: 2 :: Actual value from test set: 2 :: Model confidence: 1.0\n",
            "Inception model Prediction: 2 :: Actual value from test set: 2 :: Model confidence: 1.0\n",
            "Inception model Prediction: 2 :: Actual value from test set: 2 :: Model confidence: 1.0\n",
            "Inception model Prediction: 2 :: Actual value from test set: 2 :: Model confidence: 1.0\n",
            "Inception model Prediction: 2 :: Actual value from test set: 2 :: Model confidence: 1.0\n",
            "Inception model Prediction: 2 :: Actual value from test set: 2 :: Model confidence: 1.0\n",
            "Inception model Prediction: 2 :: Actual value from test set: 2 :: Model confidence: 1.0\n",
            "Inception model Prediction: 2 :: Actual value from test set: 2 :: Model confidence: 1.0\n",
            "Inception model Prediction: 2 :: Actual value from test set: 2 :: Model confidence: 1.0\n",
            "Inception model Prediction: 2 :: Actual value from test set: 2 :: Model confidence: 1.0\n",
            "Inception model Prediction: 2 :: Actual value from test set: 2 :: Model confidence: 0.7\n",
            "Inception model Prediction: 2 :: Actual value from test set: 2 :: Model confidence: 1.0\n",
            "Inception model Prediction: 2 :: Actual value from test set: 2 :: Model confidence: 1.0\n"
          ]
        }
      ]
    },
    {
      "cell_type": "code",
      "source": [
        "# Creates a list of predictions, a list of actual labels and a list of probabilities of the SARS-CoV-3 class for the fine-tuned ResNet50 model applied to the test set\n",
        "\n",
        "# YOUR CODE HERE\n",
        "\n",
        "\n",
        "# YOUR CODE HERE\n",
        "resnet_model.eval()\n",
        "resnet_predicted_values = []\n",
        "actual_labels = []\n",
        "resnet_sars_probabilities = []\n",
        "\n",
        "with torch.no_grad():\n",
        "    for i, j in test_loader:\n",
        "\n",
        "        images = i.to('cuda')\n",
        "        labels = j.to('cuda')\n",
        "\n",
        "        # Get model predictions\n",
        "        outputs = resnet_model(images)\n",
        "        _, predicted = torch.max(outputs.data, 1)\n",
        "        # print(predicted)\n",
        "\n",
        "        # Append predicted and actual labels to the lists\n",
        "        resnet_predicted_values.append(predicted.item())\n",
        "        # print(labels.cpu().numpy())\n",
        "        actual_labels.append(labels.cpu().numpy())\n",
        "\n",
        "        # Get the probabilities for the SARS-CoV-3 class\n",
        "        softmax = torch.nn.Softmax(dim=1)\n",
        "        resnet_sars_probabilities.append(softmax(outputs)[:,2].cpu().detach().numpy())\n",
        "\n",
        "\n",
        "for index in range(0,len(resnet_predicted_values)):\n",
        "    print(f'Resnet model Prediction: {resnet_predicted_values[index]} :: Actual value from test set: {actual_labels[index][0]} :: Model confidence: {resnet_sars_probabilities[index][0]:1.1f}')"
      ],
      "metadata": {
        "id": "e6UMYl4W3FhK",
        "colab": {
          "base_uri": "https://localhost:8080/"
        },
        "outputId": "09fb60ee-73e2-4443-95fa-09e2e41097d3"
      },
      "execution_count": null,
      "outputs": [
        {
          "output_type": "stream",
          "name": "stdout",
          "text": [
            "Resnet model Prediction: 0 :: Actual value from test set: 0 :: Model confidence: 0.0\n",
            "Resnet model Prediction: 0 :: Actual value from test set: 0 :: Model confidence: 0.0\n",
            "Resnet model Prediction: 0 :: Actual value from test set: 0 :: Model confidence: 0.0\n",
            "Resnet model Prediction: 0 :: Actual value from test set: 0 :: Model confidence: 0.0\n",
            "Resnet model Prediction: 0 :: Actual value from test set: 0 :: Model confidence: 0.0\n",
            "Resnet model Prediction: 0 :: Actual value from test set: 0 :: Model confidence: 0.0\n",
            "Resnet model Prediction: 0 :: Actual value from test set: 0 :: Model confidence: 0.0\n",
            "Resnet model Prediction: 0 :: Actual value from test set: 0 :: Model confidence: 0.0\n",
            "Resnet model Prediction: 0 :: Actual value from test set: 0 :: Model confidence: 0.0\n",
            "Resnet model Prediction: 0 :: Actual value from test set: 0 :: Model confidence: 0.0\n",
            "Resnet model Prediction: 0 :: Actual value from test set: 0 :: Model confidence: 0.0\n",
            "Resnet model Prediction: 0 :: Actual value from test set: 0 :: Model confidence: 0.0\n",
            "Resnet model Prediction: 0 :: Actual value from test set: 0 :: Model confidence: 0.0\n",
            "Resnet model Prediction: 0 :: Actual value from test set: 0 :: Model confidence: 0.0\n",
            "Resnet model Prediction: 0 :: Actual value from test set: 0 :: Model confidence: 0.0\n",
            "Resnet model Prediction: 0 :: Actual value from test set: 0 :: Model confidence: 0.0\n",
            "Resnet model Prediction: 0 :: Actual value from test set: 0 :: Model confidence: 0.0\n",
            "Resnet model Prediction: 0 :: Actual value from test set: 0 :: Model confidence: 0.0\n",
            "Resnet model Prediction: 0 :: Actual value from test set: 0 :: Model confidence: 0.0\n",
            "Resnet model Prediction: 0 :: Actual value from test set: 0 :: Model confidence: 0.0\n",
            "Resnet model Prediction: 0 :: Actual value from test set: 0 :: Model confidence: 0.0\n",
            "Resnet model Prediction: 0 :: Actual value from test set: 0 :: Model confidence: 0.0\n",
            "Resnet model Prediction: 0 :: Actual value from test set: 0 :: Model confidence: 0.0\n",
            "Resnet model Prediction: 0 :: Actual value from test set: 0 :: Model confidence: 0.0\n",
            "Resnet model Prediction: 0 :: Actual value from test set: 0 :: Model confidence: 0.0\n",
            "Resnet model Prediction: 0 :: Actual value from test set: 0 :: Model confidence: 0.0\n",
            "Resnet model Prediction: 0 :: Actual value from test set: 0 :: Model confidence: 0.0\n",
            "Resnet model Prediction: 0 :: Actual value from test set: 0 :: Model confidence: 0.0\n",
            "Resnet model Prediction: 0 :: Actual value from test set: 0 :: Model confidence: 0.0\n",
            "Resnet model Prediction: 0 :: Actual value from test set: 0 :: Model confidence: 0.0\n",
            "Resnet model Prediction: 0 :: Actual value from test set: 0 :: Model confidence: 0.0\n",
            "Resnet model Prediction: 0 :: Actual value from test set: 0 :: Model confidence: 0.0\n",
            "Resnet model Prediction: 0 :: Actual value from test set: 0 :: Model confidence: 0.0\n",
            "Resnet model Prediction: 0 :: Actual value from test set: 0 :: Model confidence: 0.0\n",
            "Resnet model Prediction: 0 :: Actual value from test set: 0 :: Model confidence: 0.0\n",
            "Resnet model Prediction: 0 :: Actual value from test set: 0 :: Model confidence: 0.0\n",
            "Resnet model Prediction: 0 :: Actual value from test set: 0 :: Model confidence: 0.0\n",
            "Resnet model Prediction: 0 :: Actual value from test set: 0 :: Model confidence: 0.0\n",
            "Resnet model Prediction: 0 :: Actual value from test set: 0 :: Model confidence: 0.0\n",
            "Resnet model Prediction: 0 :: Actual value from test set: 0 :: Model confidence: 0.0\n",
            "Resnet model Prediction: 0 :: Actual value from test set: 0 :: Model confidence: 0.0\n",
            "Resnet model Prediction: 0 :: Actual value from test set: 0 :: Model confidence: 0.0\n",
            "Resnet model Prediction: 0 :: Actual value from test set: 0 :: Model confidence: 0.0\n",
            "Resnet model Prediction: 0 :: Actual value from test set: 0 :: Model confidence: 0.0\n",
            "Resnet model Prediction: 0 :: Actual value from test set: 0 :: Model confidence: 0.0\n",
            "Resnet model Prediction: 0 :: Actual value from test set: 0 :: Model confidence: 0.0\n",
            "Resnet model Prediction: 0 :: Actual value from test set: 0 :: Model confidence: 0.0\n",
            "Resnet model Prediction: 0 :: Actual value from test set: 0 :: Model confidence: 0.0\n",
            "Resnet model Prediction: 0 :: Actual value from test set: 0 :: Model confidence: 0.0\n",
            "Resnet model Prediction: 0 :: Actual value from test set: 0 :: Model confidence: 0.0\n",
            "Resnet model Prediction: 0 :: Actual value from test set: 0 :: Model confidence: 0.0\n",
            "Resnet model Prediction: 0 :: Actual value from test set: 0 :: Model confidence: 0.0\n",
            "Resnet model Prediction: 0 :: Actual value from test set: 0 :: Model confidence: 0.0\n",
            "Resnet model Prediction: 0 :: Actual value from test set: 0 :: Model confidence: 0.0\n",
            "Resnet model Prediction: 0 :: Actual value from test set: 0 :: Model confidence: 0.0\n",
            "Resnet model Prediction: 0 :: Actual value from test set: 0 :: Model confidence: 0.0\n",
            "Resnet model Prediction: 0 :: Actual value from test set: 0 :: Model confidence: 0.0\n",
            "Resnet model Prediction: 0 :: Actual value from test set: 0 :: Model confidence: 0.0\n",
            "Resnet model Prediction: 0 :: Actual value from test set: 0 :: Model confidence: 0.0\n",
            "Resnet model Prediction: 0 :: Actual value from test set: 0 :: Model confidence: 0.0\n",
            "Resnet model Prediction: 0 :: Actual value from test set: 0 :: Model confidence: 0.0\n",
            "Resnet model Prediction: 0 :: Actual value from test set: 0 :: Model confidence: 0.0\n",
            "Resnet model Prediction: 0 :: Actual value from test set: 0 :: Model confidence: 0.0\n",
            "Resnet model Prediction: 0 :: Actual value from test set: 0 :: Model confidence: 0.0\n",
            "Resnet model Prediction: 0 :: Actual value from test set: 0 :: Model confidence: 0.0\n",
            "Resnet model Prediction: 0 :: Actual value from test set: 0 :: Model confidence: 0.0\n",
            "Resnet model Prediction: 0 :: Actual value from test set: 0 :: Model confidence: 0.0\n",
            "Resnet model Prediction: 0 :: Actual value from test set: 0 :: Model confidence: 0.0\n",
            "Resnet model Prediction: 0 :: Actual value from test set: 0 :: Model confidence: 0.0\n",
            "Resnet model Prediction: 0 :: Actual value from test set: 0 :: Model confidence: 0.0\n",
            "Resnet model Prediction: 0 :: Actual value from test set: 0 :: Model confidence: 0.0\n",
            "Resnet model Prediction: 0 :: Actual value from test set: 0 :: Model confidence: 0.0\n",
            "Resnet model Prediction: 0 :: Actual value from test set: 0 :: Model confidence: 0.0\n",
            "Resnet model Prediction: 0 :: Actual value from test set: 0 :: Model confidence: 0.0\n",
            "Resnet model Prediction: 0 :: Actual value from test set: 0 :: Model confidence: 0.0\n",
            "Resnet model Prediction: 0 :: Actual value from test set: 0 :: Model confidence: 0.0\n",
            "Resnet model Prediction: 0 :: Actual value from test set: 0 :: Model confidence: 0.0\n",
            "Resnet model Prediction: 0 :: Actual value from test set: 0 :: Model confidence: 0.0\n",
            "Resnet model Prediction: 0 :: Actual value from test set: 0 :: Model confidence: 0.0\n",
            "Resnet model Prediction: 0 :: Actual value from test set: 0 :: Model confidence: 0.0\n",
            "Resnet model Prediction: 0 :: Actual value from test set: 0 :: Model confidence: 0.0\n",
            "Resnet model Prediction: 0 :: Actual value from test set: 0 :: Model confidence: 0.0\n",
            "Resnet model Prediction: 1 :: Actual value from test set: 0 :: Model confidence: 0.0\n",
            "Resnet model Prediction: 0 :: Actual value from test set: 0 :: Model confidence: 0.0\n",
            "Resnet model Prediction: 0 :: Actual value from test set: 0 :: Model confidence: 0.0\n",
            "Resnet model Prediction: 0 :: Actual value from test set: 0 :: Model confidence: 0.0\n",
            "Resnet model Prediction: 0 :: Actual value from test set: 0 :: Model confidence: 0.0\n",
            "Resnet model Prediction: 0 :: Actual value from test set: 0 :: Model confidence: 0.0\n",
            "Resnet model Prediction: 0 :: Actual value from test set: 0 :: Model confidence: 0.0\n",
            "Resnet model Prediction: 0 :: Actual value from test set: 0 :: Model confidence: 0.0\n",
            "Resnet model Prediction: 0 :: Actual value from test set: 0 :: Model confidence: 0.0\n",
            "Resnet model Prediction: 0 :: Actual value from test set: 0 :: Model confidence: 0.0\n",
            "Resnet model Prediction: 0 :: Actual value from test set: 0 :: Model confidence: 0.0\n",
            "Resnet model Prediction: 0 :: Actual value from test set: 0 :: Model confidence: 0.0\n",
            "Resnet model Prediction: 0 :: Actual value from test set: 0 :: Model confidence: 0.0\n",
            "Resnet model Prediction: 0 :: Actual value from test set: 0 :: Model confidence: 0.0\n",
            "Resnet model Prediction: 0 :: Actual value from test set: 0 :: Model confidence: 0.0\n",
            "Resnet model Prediction: 0 :: Actual value from test set: 0 :: Model confidence: 0.0\n",
            "Resnet model Prediction: 0 :: Actual value from test set: 0 :: Model confidence: 0.0\n",
            "Resnet model Prediction: 0 :: Actual value from test set: 0 :: Model confidence: 0.0\n",
            "Resnet model Prediction: 0 :: Actual value from test set: 0 :: Model confidence: 0.0\n",
            "Resnet model Prediction: 0 :: Actual value from test set: 0 :: Model confidence: 0.0\n",
            "Resnet model Prediction: 0 :: Actual value from test set: 0 :: Model confidence: 0.0\n",
            "Resnet model Prediction: 0 :: Actual value from test set: 0 :: Model confidence: 0.0\n",
            "Resnet model Prediction: 0 :: Actual value from test set: 0 :: Model confidence: 0.0\n",
            "Resnet model Prediction: 0 :: Actual value from test set: 0 :: Model confidence: 0.0\n",
            "Resnet model Prediction: 0 :: Actual value from test set: 0 :: Model confidence: 0.0\n",
            "Resnet model Prediction: 0 :: Actual value from test set: 0 :: Model confidence: 0.0\n",
            "Resnet model Prediction: 0 :: Actual value from test set: 0 :: Model confidence: 0.0\n",
            "Resnet model Prediction: 0 :: Actual value from test set: 0 :: Model confidence: 0.0\n",
            "Resnet model Prediction: 0 :: Actual value from test set: 0 :: Model confidence: 0.0\n",
            "Resnet model Prediction: 0 :: Actual value from test set: 0 :: Model confidence: 0.0\n",
            "Resnet model Prediction: 0 :: Actual value from test set: 0 :: Model confidence: 0.0\n",
            "Resnet model Prediction: 0 :: Actual value from test set: 0 :: Model confidence: 0.0\n",
            "Resnet model Prediction: 0 :: Actual value from test set: 0 :: Model confidence: 0.0\n",
            "Resnet model Prediction: 0 :: Actual value from test set: 0 :: Model confidence: 0.0\n",
            "Resnet model Prediction: 0 :: Actual value from test set: 0 :: Model confidence: 0.0\n",
            "Resnet model Prediction: 0 :: Actual value from test set: 0 :: Model confidence: 0.0\n",
            "Resnet model Prediction: 0 :: Actual value from test set: 0 :: Model confidence: 0.0\n",
            "Resnet model Prediction: 0 :: Actual value from test set: 0 :: Model confidence: 0.0\n",
            "Resnet model Prediction: 0 :: Actual value from test set: 0 :: Model confidence: 0.0\n",
            "Resnet model Prediction: 0 :: Actual value from test set: 0 :: Model confidence: 0.0\n",
            "Resnet model Prediction: 0 :: Actual value from test set: 0 :: Model confidence: 0.0\n",
            "Resnet model Prediction: 0 :: Actual value from test set: 0 :: Model confidence: 0.0\n",
            "Resnet model Prediction: 0 :: Actual value from test set: 0 :: Model confidence: 0.0\n",
            "Resnet model Prediction: 0 :: Actual value from test set: 0 :: Model confidence: 0.0\n",
            "Resnet model Prediction: 0 :: Actual value from test set: 0 :: Model confidence: 0.0\n",
            "Resnet model Prediction: 0 :: Actual value from test set: 0 :: Model confidence: 0.0\n",
            "Resnet model Prediction: 0 :: Actual value from test set: 0 :: Model confidence: 0.0\n",
            "Resnet model Prediction: 0 :: Actual value from test set: 0 :: Model confidence: 0.0\n",
            "Resnet model Prediction: 0 :: Actual value from test set: 0 :: Model confidence: 0.0\n",
            "Resnet model Prediction: 0 :: Actual value from test set: 0 :: Model confidence: 0.0\n",
            "Resnet model Prediction: 0 :: Actual value from test set: 0 :: Model confidence: 0.0\n",
            "Resnet model Prediction: 0 :: Actual value from test set: 0 :: Model confidence: 0.0\n",
            "Resnet model Prediction: 0 :: Actual value from test set: 0 :: Model confidence: 0.0\n",
            "Resnet model Prediction: 0 :: Actual value from test set: 0 :: Model confidence: 0.0\n",
            "Resnet model Prediction: 0 :: Actual value from test set: 0 :: Model confidence: 0.0\n",
            "Resnet model Prediction: 0 :: Actual value from test set: 0 :: Model confidence: 0.0\n",
            "Resnet model Prediction: 0 :: Actual value from test set: 0 :: Model confidence: 0.0\n",
            "Resnet model Prediction: 0 :: Actual value from test set: 0 :: Model confidence: 0.0\n",
            "Resnet model Prediction: 0 :: Actual value from test set: 0 :: Model confidence: 0.0\n",
            "Resnet model Prediction: 0 :: Actual value from test set: 0 :: Model confidence: 0.0\n",
            "Resnet model Prediction: 0 :: Actual value from test set: 0 :: Model confidence: 0.0\n",
            "Resnet model Prediction: 0 :: Actual value from test set: 0 :: Model confidence: 0.0\n",
            "Resnet model Prediction: 0 :: Actual value from test set: 0 :: Model confidence: 0.0\n",
            "Resnet model Prediction: 0 :: Actual value from test set: 0 :: Model confidence: 0.0\n",
            "Resnet model Prediction: 0 :: Actual value from test set: 0 :: Model confidence: 0.0\n",
            "Resnet model Prediction: 0 :: Actual value from test set: 0 :: Model confidence: 0.0\n",
            "Resnet model Prediction: 0 :: Actual value from test set: 0 :: Model confidence: 0.0\n",
            "Resnet model Prediction: 0 :: Actual value from test set: 0 :: Model confidence: 0.0\n",
            "Resnet model Prediction: 0 :: Actual value from test set: 0 :: Model confidence: 0.0\n",
            "Resnet model Prediction: 0 :: Actual value from test set: 0 :: Model confidence: 0.0\n",
            "Resnet model Prediction: 0 :: Actual value from test set: 0 :: Model confidence: 0.0\n",
            "Resnet model Prediction: 0 :: Actual value from test set: 0 :: Model confidence: 0.0\n",
            "Resnet model Prediction: 0 :: Actual value from test set: 0 :: Model confidence: 0.0\n",
            "Resnet model Prediction: 0 :: Actual value from test set: 0 :: Model confidence: 0.0\n",
            "Resnet model Prediction: 0 :: Actual value from test set: 0 :: Model confidence: 0.0\n",
            "Resnet model Prediction: 0 :: Actual value from test set: 0 :: Model confidence: 0.0\n",
            "Resnet model Prediction: 0 :: Actual value from test set: 0 :: Model confidence: 0.0\n",
            "Resnet model Prediction: 0 :: Actual value from test set: 0 :: Model confidence: 0.0\n",
            "Resnet model Prediction: 0 :: Actual value from test set: 0 :: Model confidence: 0.0\n",
            "Resnet model Prediction: 0 :: Actual value from test set: 0 :: Model confidence: 0.0\n",
            "Resnet model Prediction: 0 :: Actual value from test set: 0 :: Model confidence: 0.0\n",
            "Resnet model Prediction: 0 :: Actual value from test set: 0 :: Model confidence: 0.0\n",
            "Resnet model Prediction: 0 :: Actual value from test set: 0 :: Model confidence: 0.0\n",
            "Resnet model Prediction: 0 :: Actual value from test set: 0 :: Model confidence: 0.0\n",
            "Resnet model Prediction: 0 :: Actual value from test set: 0 :: Model confidence: 0.0\n",
            "Resnet model Prediction: 0 :: Actual value from test set: 0 :: Model confidence: 0.0\n",
            "Resnet model Prediction: 0 :: Actual value from test set: 0 :: Model confidence: 0.0\n",
            "Resnet model Prediction: 0 :: Actual value from test set: 0 :: Model confidence: 0.0\n",
            "Resnet model Prediction: 0 :: Actual value from test set: 0 :: Model confidence: 0.0\n",
            "Resnet model Prediction: 0 :: Actual value from test set: 0 :: Model confidence: 0.0\n",
            "Resnet model Prediction: 0 :: Actual value from test set: 0 :: Model confidence: 0.0\n",
            "Resnet model Prediction: 0 :: Actual value from test set: 0 :: Model confidence: 0.0\n",
            "Resnet model Prediction: 0 :: Actual value from test set: 0 :: Model confidence: 0.0\n",
            "Resnet model Prediction: 0 :: Actual value from test set: 0 :: Model confidence: 0.0\n",
            "Resnet model Prediction: 0 :: Actual value from test set: 0 :: Model confidence: 0.0\n",
            "Resnet model Prediction: 0 :: Actual value from test set: 0 :: Model confidence: 0.0\n",
            "Resnet model Prediction: 0 :: Actual value from test set: 0 :: Model confidence: 0.0\n",
            "Resnet model Prediction: 0 :: Actual value from test set: 0 :: Model confidence: 0.0\n",
            "Resnet model Prediction: 0 :: Actual value from test set: 0 :: Model confidence: 0.0\n",
            "Resnet model Prediction: 0 :: Actual value from test set: 0 :: Model confidence: 0.0\n",
            "Resnet model Prediction: 0 :: Actual value from test set: 0 :: Model confidence: 0.0\n",
            "Resnet model Prediction: 1 :: Actual value from test set: 0 :: Model confidence: 0.0\n",
            "Resnet model Prediction: 1 :: Actual value from test set: 0 :: Model confidence: 0.0\n",
            "Resnet model Prediction: 0 :: Actual value from test set: 0 :: Model confidence: 0.0\n",
            "Resnet model Prediction: 0 :: Actual value from test set: 0 :: Model confidence: 0.0\n",
            "Resnet model Prediction: 0 :: Actual value from test set: 0 :: Model confidence: 0.0\n",
            "Resnet model Prediction: 0 :: Actual value from test set: 0 :: Model confidence: 0.0\n",
            "Resnet model Prediction: 0 :: Actual value from test set: 0 :: Model confidence: 0.0\n",
            "Resnet model Prediction: 0 :: Actual value from test set: 0 :: Model confidence: 0.0\n",
            "Resnet model Prediction: 0 :: Actual value from test set: 0 :: Model confidence: 0.0\n",
            "Resnet model Prediction: 0 :: Actual value from test set: 0 :: Model confidence: 0.0\n",
            "Resnet model Prediction: 0 :: Actual value from test set: 0 :: Model confidence: 0.0\n",
            "Resnet model Prediction: 0 :: Actual value from test set: 0 :: Model confidence: 0.0\n",
            "Resnet model Prediction: 0 :: Actual value from test set: 0 :: Model confidence: 0.0\n",
            "Resnet model Prediction: 0 :: Actual value from test set: 0 :: Model confidence: 0.0\n",
            "Resnet model Prediction: 0 :: Actual value from test set: 0 :: Model confidence: 0.0\n",
            "Resnet model Prediction: 1 :: Actual value from test set: 0 :: Model confidence: 0.0\n",
            "Resnet model Prediction: 0 :: Actual value from test set: 0 :: Model confidence: 0.0\n",
            "Resnet model Prediction: 0 :: Actual value from test set: 0 :: Model confidence: 0.0\n",
            "Resnet model Prediction: 0 :: Actual value from test set: 0 :: Model confidence: 0.0\n",
            "Resnet model Prediction: 0 :: Actual value from test set: 0 :: Model confidence: 0.0\n",
            "Resnet model Prediction: 0 :: Actual value from test set: 0 :: Model confidence: 0.0\n",
            "Resnet model Prediction: 0 :: Actual value from test set: 0 :: Model confidence: 0.0\n",
            "Resnet model Prediction: 0 :: Actual value from test set: 0 :: Model confidence: 0.0\n",
            "Resnet model Prediction: 0 :: Actual value from test set: 0 :: Model confidence: 0.0\n",
            "Resnet model Prediction: 0 :: Actual value from test set: 0 :: Model confidence: 0.0\n",
            "Resnet model Prediction: 0 :: Actual value from test set: 0 :: Model confidence: 0.0\n",
            "Resnet model Prediction: 0 :: Actual value from test set: 0 :: Model confidence: 0.0\n",
            "Resnet model Prediction: 0 :: Actual value from test set: 0 :: Model confidence: 0.0\n",
            "Resnet model Prediction: 0 :: Actual value from test set: 0 :: Model confidence: 0.0\n",
            "Resnet model Prediction: 0 :: Actual value from test set: 0 :: Model confidence: 0.0\n",
            "Resnet model Prediction: 0 :: Actual value from test set: 0 :: Model confidence: 0.0\n",
            "Resnet model Prediction: 0 :: Actual value from test set: 0 :: Model confidence: 0.0\n",
            "Resnet model Prediction: 0 :: Actual value from test set: 0 :: Model confidence: 0.0\n",
            "Resnet model Prediction: 0 :: Actual value from test set: 0 :: Model confidence: 0.0\n",
            "Resnet model Prediction: 0 :: Actual value from test set: 0 :: Model confidence: 0.0\n",
            "Resnet model Prediction: 0 :: Actual value from test set: 0 :: Model confidence: 0.0\n",
            "Resnet model Prediction: 0 :: Actual value from test set: 0 :: Model confidence: 0.0\n",
            "Resnet model Prediction: 0 :: Actual value from test set: 0 :: Model confidence: 0.0\n",
            "Resnet model Prediction: 0 :: Actual value from test set: 0 :: Model confidence: 0.0\n",
            "Resnet model Prediction: 0 :: Actual value from test set: 0 :: Model confidence: 0.0\n",
            "Resnet model Prediction: 0 :: Actual value from test set: 0 :: Model confidence: 0.0\n",
            "Resnet model Prediction: 0 :: Actual value from test set: 0 :: Model confidence: 0.0\n",
            "Resnet model Prediction: 0 :: Actual value from test set: 0 :: Model confidence: 0.0\n",
            "Resnet model Prediction: 0 :: Actual value from test set: 0 :: Model confidence: 0.0\n",
            "Resnet model Prediction: 0 :: Actual value from test set: 0 :: Model confidence: 0.0\n",
            "Resnet model Prediction: 0 :: Actual value from test set: 0 :: Model confidence: 0.0\n",
            "Resnet model Prediction: 0 :: Actual value from test set: 0 :: Model confidence: 0.0\n",
            "Resnet model Prediction: 0 :: Actual value from test set: 0 :: Model confidence: 0.0\n",
            "Resnet model Prediction: 0 :: Actual value from test set: 0 :: Model confidence: 0.0\n",
            "Resnet model Prediction: 0 :: Actual value from test set: 0 :: Model confidence: 0.0\n",
            "Resnet model Prediction: 1 :: Actual value from test set: 1 :: Model confidence: 0.0\n",
            "Resnet model Prediction: 1 :: Actual value from test set: 1 :: Model confidence: 0.0\n",
            "Resnet model Prediction: 1 :: Actual value from test set: 1 :: Model confidence: 0.0\n",
            "Resnet model Prediction: 0 :: Actual value from test set: 1 :: Model confidence: 0.0\n",
            "Resnet model Prediction: 1 :: Actual value from test set: 1 :: Model confidence: 0.0\n",
            "Resnet model Prediction: 1 :: Actual value from test set: 1 :: Model confidence: 0.0\n",
            "Resnet model Prediction: 1 :: Actual value from test set: 1 :: Model confidence: 0.0\n",
            "Resnet model Prediction: 1 :: Actual value from test set: 1 :: Model confidence: 0.0\n",
            "Resnet model Prediction: 1 :: Actual value from test set: 1 :: Model confidence: 0.0\n",
            "Resnet model Prediction: 1 :: Actual value from test set: 1 :: Model confidence: 0.0\n",
            "Resnet model Prediction: 1 :: Actual value from test set: 1 :: Model confidence: 0.0\n",
            "Resnet model Prediction: 1 :: Actual value from test set: 1 :: Model confidence: 0.0\n",
            "Resnet model Prediction: 1 :: Actual value from test set: 1 :: Model confidence: 0.0\n",
            "Resnet model Prediction: 1 :: Actual value from test set: 1 :: Model confidence: 0.0\n",
            "Resnet model Prediction: 0 :: Actual value from test set: 1 :: Model confidence: 0.0\n",
            "Resnet model Prediction: 1 :: Actual value from test set: 1 :: Model confidence: 0.0\n",
            "Resnet model Prediction: 1 :: Actual value from test set: 1 :: Model confidence: 0.0\n",
            "Resnet model Prediction: 1 :: Actual value from test set: 1 :: Model confidence: 0.0\n",
            "Resnet model Prediction: 1 :: Actual value from test set: 1 :: Model confidence: 0.0\n",
            "Resnet model Prediction: 1 :: Actual value from test set: 1 :: Model confidence: 0.0\n",
            "Resnet model Prediction: 1 :: Actual value from test set: 1 :: Model confidence: 0.0\n",
            "Resnet model Prediction: 1 :: Actual value from test set: 1 :: Model confidence: 0.0\n",
            "Resnet model Prediction: 1 :: Actual value from test set: 1 :: Model confidence: 0.0\n",
            "Resnet model Prediction: 1 :: Actual value from test set: 1 :: Model confidence: 0.0\n",
            "Resnet model Prediction: 1 :: Actual value from test set: 1 :: Model confidence: 0.0\n",
            "Resnet model Prediction: 0 :: Actual value from test set: 1 :: Model confidence: 0.2\n",
            "Resnet model Prediction: 1 :: Actual value from test set: 1 :: Model confidence: 0.0\n",
            "Resnet model Prediction: 0 :: Actual value from test set: 1 :: Model confidence: 0.0\n",
            "Resnet model Prediction: 1 :: Actual value from test set: 1 :: Model confidence: 0.0\n",
            "Resnet model Prediction: 1 :: Actual value from test set: 1 :: Model confidence: 0.0\n",
            "Resnet model Prediction: 1 :: Actual value from test set: 1 :: Model confidence: 0.0\n",
            "Resnet model Prediction: 1 :: Actual value from test set: 1 :: Model confidence: 0.0\n",
            "Resnet model Prediction: 1 :: Actual value from test set: 1 :: Model confidence: 0.0\n",
            "Resnet model Prediction: 1 :: Actual value from test set: 1 :: Model confidence: 0.0\n",
            "Resnet model Prediction: 1 :: Actual value from test set: 1 :: Model confidence: 0.0\n",
            "Resnet model Prediction: 1 :: Actual value from test set: 1 :: Model confidence: 0.0\n",
            "Resnet model Prediction: 1 :: Actual value from test set: 1 :: Model confidence: 0.0\n",
            "Resnet model Prediction: 1 :: Actual value from test set: 1 :: Model confidence: 0.0\n",
            "Resnet model Prediction: 1 :: Actual value from test set: 1 :: Model confidence: 0.0\n",
            "Resnet model Prediction: 1 :: Actual value from test set: 1 :: Model confidence: 0.0\n",
            "Resnet model Prediction: 1 :: Actual value from test set: 1 :: Model confidence: 0.0\n",
            "Resnet model Prediction: 1 :: Actual value from test set: 1 :: Model confidence: 0.0\n",
            "Resnet model Prediction: 1 :: Actual value from test set: 1 :: Model confidence: 0.0\n",
            "Resnet model Prediction: 1 :: Actual value from test set: 1 :: Model confidence: 0.0\n",
            "Resnet model Prediction: 1 :: Actual value from test set: 1 :: Model confidence: 0.0\n",
            "Resnet model Prediction: 1 :: Actual value from test set: 1 :: Model confidence: 0.0\n",
            "Resnet model Prediction: 0 :: Actual value from test set: 1 :: Model confidence: 0.0\n",
            "Resnet model Prediction: 1 :: Actual value from test set: 1 :: Model confidence: 0.2\n",
            "Resnet model Prediction: 1 :: Actual value from test set: 1 :: Model confidence: 0.0\n",
            "Resnet model Prediction: 1 :: Actual value from test set: 1 :: Model confidence: 0.0\n",
            "Resnet model Prediction: 1 :: Actual value from test set: 1 :: Model confidence: 0.0\n",
            "Resnet model Prediction: 1 :: Actual value from test set: 1 :: Model confidence: 0.0\n",
            "Resnet model Prediction: 1 :: Actual value from test set: 1 :: Model confidence: 0.1\n",
            "Resnet model Prediction: 1 :: Actual value from test set: 1 :: Model confidence: 0.0\n",
            "Resnet model Prediction: 1 :: Actual value from test set: 1 :: Model confidence: 0.0\n",
            "Resnet model Prediction: 1 :: Actual value from test set: 1 :: Model confidence: 0.0\n",
            "Resnet model Prediction: 1 :: Actual value from test set: 1 :: Model confidence: 0.0\n",
            "Resnet model Prediction: 1 :: Actual value from test set: 1 :: Model confidence: 0.0\n",
            "Resnet model Prediction: 1 :: Actual value from test set: 1 :: Model confidence: 0.0\n",
            "Resnet model Prediction: 1 :: Actual value from test set: 1 :: Model confidence: 0.0\n",
            "Resnet model Prediction: 1 :: Actual value from test set: 1 :: Model confidence: 0.0\n",
            "Resnet model Prediction: 1 :: Actual value from test set: 1 :: Model confidence: 0.0\n",
            "Resnet model Prediction: 1 :: Actual value from test set: 1 :: Model confidence: 0.0\n",
            "Resnet model Prediction: 1 :: Actual value from test set: 1 :: Model confidence: 0.0\n",
            "Resnet model Prediction: 1 :: Actual value from test set: 1 :: Model confidence: 0.0\n",
            "Resnet model Prediction: 1 :: Actual value from test set: 1 :: Model confidence: 0.0\n",
            "Resnet model Prediction: 1 :: Actual value from test set: 1 :: Model confidence: 0.0\n",
            "Resnet model Prediction: 1 :: Actual value from test set: 1 :: Model confidence: 0.0\n",
            "Resnet model Prediction: 0 :: Actual value from test set: 1 :: Model confidence: 0.0\n",
            "Resnet model Prediction: 1 :: Actual value from test set: 1 :: Model confidence: 0.0\n",
            "Resnet model Prediction: 1 :: Actual value from test set: 1 :: Model confidence: 0.0\n",
            "Resnet model Prediction: 1 :: Actual value from test set: 1 :: Model confidence: 0.0\n",
            "Resnet model Prediction: 1 :: Actual value from test set: 1 :: Model confidence: 0.0\n",
            "Resnet model Prediction: 1 :: Actual value from test set: 1 :: Model confidence: 0.0\n",
            "Resnet model Prediction: 1 :: Actual value from test set: 1 :: Model confidence: 0.0\n",
            "Resnet model Prediction: 1 :: Actual value from test set: 1 :: Model confidence: 0.0\n",
            "Resnet model Prediction: 0 :: Actual value from test set: 1 :: Model confidence: 0.0\n",
            "Resnet model Prediction: 1 :: Actual value from test set: 1 :: Model confidence: 0.0\n",
            "Resnet model Prediction: 1 :: Actual value from test set: 1 :: Model confidence: 0.0\n",
            "Resnet model Prediction: 1 :: Actual value from test set: 1 :: Model confidence: 0.0\n",
            "Resnet model Prediction: 1 :: Actual value from test set: 1 :: Model confidence: 0.0\n",
            "Resnet model Prediction: 1 :: Actual value from test set: 1 :: Model confidence: 0.0\n",
            "Resnet model Prediction: 1 :: Actual value from test set: 1 :: Model confidence: 0.0\n",
            "Resnet model Prediction: 1 :: Actual value from test set: 1 :: Model confidence: 0.0\n",
            "Resnet model Prediction: 1 :: Actual value from test set: 1 :: Model confidence: 0.0\n",
            "Resnet model Prediction: 1 :: Actual value from test set: 1 :: Model confidence: 0.0\n",
            "Resnet model Prediction: 1 :: Actual value from test set: 1 :: Model confidence: 0.0\n",
            "Resnet model Prediction: 1 :: Actual value from test set: 1 :: Model confidence: 0.0\n",
            "Resnet model Prediction: 1 :: Actual value from test set: 1 :: Model confidence: 0.0\n",
            "Resnet model Prediction: 1 :: Actual value from test set: 1 :: Model confidence: 0.0\n",
            "Resnet model Prediction: 1 :: Actual value from test set: 1 :: Model confidence: 0.0\n",
            "Resnet model Prediction: 1 :: Actual value from test set: 1 :: Model confidence: 0.0\n",
            "Resnet model Prediction: 1 :: Actual value from test set: 1 :: Model confidence: 0.0\n",
            "Resnet model Prediction: 0 :: Actual value from test set: 1 :: Model confidence: 0.0\n",
            "Resnet model Prediction: 1 :: Actual value from test set: 1 :: Model confidence: 0.0\n",
            "Resnet model Prediction: 1 :: Actual value from test set: 1 :: Model confidence: 0.0\n",
            "Resnet model Prediction: 1 :: Actual value from test set: 1 :: Model confidence: 0.0\n",
            "Resnet model Prediction: 1 :: Actual value from test set: 1 :: Model confidence: 0.0\n",
            "Resnet model Prediction: 1 :: Actual value from test set: 1 :: Model confidence: 0.0\n",
            "Resnet model Prediction: 1 :: Actual value from test set: 1 :: Model confidence: 0.0\n",
            "Resnet model Prediction: 1 :: Actual value from test set: 1 :: Model confidence: 0.0\n",
            "Resnet model Prediction: 1 :: Actual value from test set: 1 :: Model confidence: 0.0\n",
            "Resnet model Prediction: 1 :: Actual value from test set: 1 :: Model confidence: 0.0\n",
            "Resnet model Prediction: 1 :: Actual value from test set: 1 :: Model confidence: 0.0\n",
            "Resnet model Prediction: 1 :: Actual value from test set: 1 :: Model confidence: 0.0\n",
            "Resnet model Prediction: 1 :: Actual value from test set: 1 :: Model confidence: 0.0\n",
            "Resnet model Prediction: 1 :: Actual value from test set: 1 :: Model confidence: 0.0\n",
            "Resnet model Prediction: 1 :: Actual value from test set: 1 :: Model confidence: 0.0\n",
            "Resnet model Prediction: 1 :: Actual value from test set: 1 :: Model confidence: 0.0\n",
            "Resnet model Prediction: 1 :: Actual value from test set: 1 :: Model confidence: 0.0\n",
            "Resnet model Prediction: 1 :: Actual value from test set: 1 :: Model confidence: 0.0\n",
            "Resnet model Prediction: 1 :: Actual value from test set: 1 :: Model confidence: 0.0\n",
            "Resnet model Prediction: 1 :: Actual value from test set: 1 :: Model confidence: 0.0\n",
            "Resnet model Prediction: 1 :: Actual value from test set: 1 :: Model confidence: 0.0\n",
            "Resnet model Prediction: 1 :: Actual value from test set: 1 :: Model confidence: 0.0\n",
            "Resnet model Prediction: 1 :: Actual value from test set: 1 :: Model confidence: 0.5\n",
            "Resnet model Prediction: 1 :: Actual value from test set: 1 :: Model confidence: 0.0\n",
            "Resnet model Prediction: 1 :: Actual value from test set: 1 :: Model confidence: 0.0\n",
            "Resnet model Prediction: 1 :: Actual value from test set: 1 :: Model confidence: 0.0\n",
            "Resnet model Prediction: 1 :: Actual value from test set: 1 :: Model confidence: 0.0\n",
            "Resnet model Prediction: 1 :: Actual value from test set: 1 :: Model confidence: 0.0\n",
            "Resnet model Prediction: 1 :: Actual value from test set: 1 :: Model confidence: 0.0\n",
            "Resnet model Prediction: 1 :: Actual value from test set: 1 :: Model confidence: 0.0\n",
            "Resnet model Prediction: 1 :: Actual value from test set: 1 :: Model confidence: 0.0\n",
            "Resnet model Prediction: 1 :: Actual value from test set: 1 :: Model confidence: 0.0\n",
            "Resnet model Prediction: 1 :: Actual value from test set: 1 :: Model confidence: 0.0\n",
            "Resnet model Prediction: 1 :: Actual value from test set: 1 :: Model confidence: 0.0\n",
            "Resnet model Prediction: 1 :: Actual value from test set: 1 :: Model confidence: 0.0\n",
            "Resnet model Prediction: 1 :: Actual value from test set: 1 :: Model confidence: 0.0\n",
            "Resnet model Prediction: 1 :: Actual value from test set: 1 :: Model confidence: 0.0\n",
            "Resnet model Prediction: 1 :: Actual value from test set: 1 :: Model confidence: 0.0\n",
            "Resnet model Prediction: 1 :: Actual value from test set: 1 :: Model confidence: 0.0\n",
            "Resnet model Prediction: 1 :: Actual value from test set: 1 :: Model confidence: 0.0\n",
            "Resnet model Prediction: 1 :: Actual value from test set: 1 :: Model confidence: 0.0\n",
            "Resnet model Prediction: 1 :: Actual value from test set: 1 :: Model confidence: 0.0\n",
            "Resnet model Prediction: 1 :: Actual value from test set: 1 :: Model confidence: 0.0\n",
            "Resnet model Prediction: 1 :: Actual value from test set: 1 :: Model confidence: 0.0\n",
            "Resnet model Prediction: 1 :: Actual value from test set: 1 :: Model confidence: 0.0\n",
            "Resnet model Prediction: 1 :: Actual value from test set: 1 :: Model confidence: 0.0\n",
            "Resnet model Prediction: 1 :: Actual value from test set: 1 :: Model confidence: 0.0\n",
            "Resnet model Prediction: 0 :: Actual value from test set: 1 :: Model confidence: 0.0\n",
            "Resnet model Prediction: 1 :: Actual value from test set: 1 :: Model confidence: 0.0\n",
            "Resnet model Prediction: 1 :: Actual value from test set: 1 :: Model confidence: 0.0\n",
            "Resnet model Prediction: 1 :: Actual value from test set: 1 :: Model confidence: 0.0\n",
            "Resnet model Prediction: 1 :: Actual value from test set: 1 :: Model confidence: 0.0\n",
            "Resnet model Prediction: 1 :: Actual value from test set: 1 :: Model confidence: 0.0\n",
            "Resnet model Prediction: 1 :: Actual value from test set: 1 :: Model confidence: 0.0\n",
            "Resnet model Prediction: 1 :: Actual value from test set: 1 :: Model confidence: 0.0\n",
            "Resnet model Prediction: 1 :: Actual value from test set: 1 :: Model confidence: 0.0\n",
            "Resnet model Prediction: 1 :: Actual value from test set: 1 :: Model confidence: 0.0\n",
            "Resnet model Prediction: 1 :: Actual value from test set: 1 :: Model confidence: 0.0\n",
            "Resnet model Prediction: 1 :: Actual value from test set: 1 :: Model confidence: 0.0\n",
            "Resnet model Prediction: 1 :: Actual value from test set: 1 :: Model confidence: 0.0\n",
            "Resnet model Prediction: 1 :: Actual value from test set: 1 :: Model confidence: 0.0\n",
            "Resnet model Prediction: 1 :: Actual value from test set: 1 :: Model confidence: 0.0\n",
            "Resnet model Prediction: 1 :: Actual value from test set: 1 :: Model confidence: 0.0\n",
            "Resnet model Prediction: 1 :: Actual value from test set: 1 :: Model confidence: 0.0\n",
            "Resnet model Prediction: 1 :: Actual value from test set: 1 :: Model confidence: 0.0\n",
            "Resnet model Prediction: 1 :: Actual value from test set: 1 :: Model confidence: 0.0\n",
            "Resnet model Prediction: 1 :: Actual value from test set: 1 :: Model confidence: 0.0\n",
            "Resnet model Prediction: 1 :: Actual value from test set: 1 :: Model confidence: 0.0\n",
            "Resnet model Prediction: 1 :: Actual value from test set: 1 :: Model confidence: 0.0\n",
            "Resnet model Prediction: 1 :: Actual value from test set: 1 :: Model confidence: 0.0\n",
            "Resnet model Prediction: 1 :: Actual value from test set: 1 :: Model confidence: 0.0\n",
            "Resnet model Prediction: 1 :: Actual value from test set: 1 :: Model confidence: 0.0\n",
            "Resnet model Prediction: 1 :: Actual value from test set: 1 :: Model confidence: 0.3\n",
            "Resnet model Prediction: 1 :: Actual value from test set: 1 :: Model confidence: 0.0\n",
            "Resnet model Prediction: 1 :: Actual value from test set: 1 :: Model confidence: 0.0\n",
            "Resnet model Prediction: 1 :: Actual value from test set: 1 :: Model confidence: 0.0\n",
            "Resnet model Prediction: 1 :: Actual value from test set: 1 :: Model confidence: 0.0\n",
            "Resnet model Prediction: 1 :: Actual value from test set: 1 :: Model confidence: 0.0\n",
            "Resnet model Prediction: 1 :: Actual value from test set: 1 :: Model confidence: 0.0\n",
            "Resnet model Prediction: 1 :: Actual value from test set: 1 :: Model confidence: 0.0\n",
            "Resnet model Prediction: 1 :: Actual value from test set: 1 :: Model confidence: 0.0\n",
            "Resnet model Prediction: 1 :: Actual value from test set: 1 :: Model confidence: 0.0\n",
            "Resnet model Prediction: 1 :: Actual value from test set: 1 :: Model confidence: 0.0\n",
            "Resnet model Prediction: 1 :: Actual value from test set: 1 :: Model confidence: 0.0\n",
            "Resnet model Prediction: 1 :: Actual value from test set: 1 :: Model confidence: 0.0\n",
            "Resnet model Prediction: 1 :: Actual value from test set: 1 :: Model confidence: 0.0\n",
            "Resnet model Prediction: 1 :: Actual value from test set: 1 :: Model confidence: 0.0\n",
            "Resnet model Prediction: 1 :: Actual value from test set: 1 :: Model confidence: 0.0\n",
            "Resnet model Prediction: 1 :: Actual value from test set: 1 :: Model confidence: 0.0\n",
            "Resnet model Prediction: 1 :: Actual value from test set: 1 :: Model confidence: 0.0\n",
            "Resnet model Prediction: 1 :: Actual value from test set: 1 :: Model confidence: 0.0\n",
            "Resnet model Prediction: 1 :: Actual value from test set: 1 :: Model confidence: 0.0\n",
            "Resnet model Prediction: 1 :: Actual value from test set: 1 :: Model confidence: 0.0\n",
            "Resnet model Prediction: 2 :: Actual value from test set: 1 :: Model confidence: 0.7\n",
            "Resnet model Prediction: 1 :: Actual value from test set: 1 :: Model confidence: 0.0\n",
            "Resnet model Prediction: 1 :: Actual value from test set: 1 :: Model confidence: 0.0\n",
            "Resnet model Prediction: 1 :: Actual value from test set: 1 :: Model confidence: 0.0\n",
            "Resnet model Prediction: 1 :: Actual value from test set: 1 :: Model confidence: 0.0\n",
            "Resnet model Prediction: 1 :: Actual value from test set: 1 :: Model confidence: 0.0\n",
            "Resnet model Prediction: 1 :: Actual value from test set: 1 :: Model confidence: 0.0\n",
            "Resnet model Prediction: 1 :: Actual value from test set: 1 :: Model confidence: 0.0\n",
            "Resnet model Prediction: 1 :: Actual value from test set: 1 :: Model confidence: 0.0\n",
            "Resnet model Prediction: 1 :: Actual value from test set: 1 :: Model confidence: 0.0\n",
            "Resnet model Prediction: 1 :: Actual value from test set: 1 :: Model confidence: 0.0\n",
            "Resnet model Prediction: 1 :: Actual value from test set: 1 :: Model confidence: 0.0\n",
            "Resnet model Prediction: 1 :: Actual value from test set: 1 :: Model confidence: 0.0\n",
            "Resnet model Prediction: 1 :: Actual value from test set: 1 :: Model confidence: 0.0\n",
            "Resnet model Prediction: 2 :: Actual value from test set: 2 :: Model confidence: 1.0\n",
            "Resnet model Prediction: 2 :: Actual value from test set: 2 :: Model confidence: 1.0\n",
            "Resnet model Prediction: 2 :: Actual value from test set: 2 :: Model confidence: 1.0\n",
            "Resnet model Prediction: 2 :: Actual value from test set: 2 :: Model confidence: 1.0\n",
            "Resnet model Prediction: 2 :: Actual value from test set: 2 :: Model confidence: 1.0\n",
            "Resnet model Prediction: 2 :: Actual value from test set: 2 :: Model confidence: 1.0\n",
            "Resnet model Prediction: 2 :: Actual value from test set: 2 :: Model confidence: 1.0\n",
            "Resnet model Prediction: 2 :: Actual value from test set: 2 :: Model confidence: 1.0\n",
            "Resnet model Prediction: 2 :: Actual value from test set: 2 :: Model confidence: 1.0\n",
            "Resnet model Prediction: 2 :: Actual value from test set: 2 :: Model confidence: 1.0\n",
            "Resnet model Prediction: 2 :: Actual value from test set: 2 :: Model confidence: 1.0\n",
            "Resnet model Prediction: 2 :: Actual value from test set: 2 :: Model confidence: 1.0\n",
            "Resnet model Prediction: 2 :: Actual value from test set: 2 :: Model confidence: 1.0\n",
            "Resnet model Prediction: 2 :: Actual value from test set: 2 :: Model confidence: 1.0\n",
            "Resnet model Prediction: 2 :: Actual value from test set: 2 :: Model confidence: 1.0\n",
            "Resnet model Prediction: 2 :: Actual value from test set: 2 :: Model confidence: 1.0\n",
            "Resnet model Prediction: 2 :: Actual value from test set: 2 :: Model confidence: 1.0\n",
            "Resnet model Prediction: 2 :: Actual value from test set: 2 :: Model confidence: 1.0\n",
            "Resnet model Prediction: 2 :: Actual value from test set: 2 :: Model confidence: 1.0\n",
            "Resnet model Prediction: 2 :: Actual value from test set: 2 :: Model confidence: 1.0\n",
            "Resnet model Prediction: 2 :: Actual value from test set: 2 :: Model confidence: 1.0\n",
            "Resnet model Prediction: 2 :: Actual value from test set: 2 :: Model confidence: 1.0\n",
            "Resnet model Prediction: 2 :: Actual value from test set: 2 :: Model confidence: 1.0\n",
            "Resnet model Prediction: 2 :: Actual value from test set: 2 :: Model confidence: 1.0\n",
            "Resnet model Prediction: 2 :: Actual value from test set: 2 :: Model confidence: 1.0\n",
            "Resnet model Prediction: 2 :: Actual value from test set: 2 :: Model confidence: 1.0\n",
            "Resnet model Prediction: 2 :: Actual value from test set: 2 :: Model confidence: 1.0\n",
            "Resnet model Prediction: 2 :: Actual value from test set: 2 :: Model confidence: 1.0\n",
            "Resnet model Prediction: 2 :: Actual value from test set: 2 :: Model confidence: 1.0\n",
            "Resnet model Prediction: 2 :: Actual value from test set: 2 :: Model confidence: 1.0\n",
            "Resnet model Prediction: 2 :: Actual value from test set: 2 :: Model confidence: 1.0\n",
            "Resnet model Prediction: 2 :: Actual value from test set: 2 :: Model confidence: 1.0\n",
            "Resnet model Prediction: 2 :: Actual value from test set: 2 :: Model confidence: 1.0\n",
            "Resnet model Prediction: 2 :: Actual value from test set: 2 :: Model confidence: 1.0\n",
            "Resnet model Prediction: 2 :: Actual value from test set: 2 :: Model confidence: 1.0\n",
            "Resnet model Prediction: 2 :: Actual value from test set: 2 :: Model confidence: 1.0\n",
            "Resnet model Prediction: 2 :: Actual value from test set: 2 :: Model confidence: 1.0\n",
            "Resnet model Prediction: 2 :: Actual value from test set: 2 :: Model confidence: 1.0\n",
            "Resnet model Prediction: 2 :: Actual value from test set: 2 :: Model confidence: 1.0\n",
            "Resnet model Prediction: 2 :: Actual value from test set: 2 :: Model confidence: 1.0\n",
            "Resnet model Prediction: 2 :: Actual value from test set: 2 :: Model confidence: 1.0\n",
            "Resnet model Prediction: 2 :: Actual value from test set: 2 :: Model confidence: 1.0\n",
            "Resnet model Prediction: 2 :: Actual value from test set: 2 :: Model confidence: 1.0\n",
            "Resnet model Prediction: 2 :: Actual value from test set: 2 :: Model confidence: 1.0\n",
            "Resnet model Prediction: 2 :: Actual value from test set: 2 :: Model confidence: 1.0\n",
            "Resnet model Prediction: 2 :: Actual value from test set: 2 :: Model confidence: 1.0\n",
            "Resnet model Prediction: 2 :: Actual value from test set: 2 :: Model confidence: 1.0\n",
            "Resnet model Prediction: 2 :: Actual value from test set: 2 :: Model confidence: 1.0\n",
            "Resnet model Prediction: 2 :: Actual value from test set: 2 :: Model confidence: 1.0\n",
            "Resnet model Prediction: 2 :: Actual value from test set: 2 :: Model confidence: 1.0\n",
            "Resnet model Prediction: 2 :: Actual value from test set: 2 :: Model confidence: 1.0\n",
            "Resnet model Prediction: 2 :: Actual value from test set: 2 :: Model confidence: 1.0\n",
            "Resnet model Prediction: 2 :: Actual value from test set: 2 :: Model confidence: 1.0\n",
            "Resnet model Prediction: 2 :: Actual value from test set: 2 :: Model confidence: 1.0\n",
            "Resnet model Prediction: 2 :: Actual value from test set: 2 :: Model confidence: 1.0\n",
            "Resnet model Prediction: 2 :: Actual value from test set: 2 :: Model confidence: 1.0\n",
            "Resnet model Prediction: 2 :: Actual value from test set: 2 :: Model confidence: 1.0\n",
            "Resnet model Prediction: 2 :: Actual value from test set: 2 :: Model confidence: 1.0\n",
            "Resnet model Prediction: 2 :: Actual value from test set: 2 :: Model confidence: 1.0\n",
            "Resnet model Prediction: 2 :: Actual value from test set: 2 :: Model confidence: 1.0\n",
            "Resnet model Prediction: 2 :: Actual value from test set: 2 :: Model confidence: 1.0\n",
            "Resnet model Prediction: 2 :: Actual value from test set: 2 :: Model confidence: 1.0\n",
            "Resnet model Prediction: 2 :: Actual value from test set: 2 :: Model confidence: 1.0\n",
            "Resnet model Prediction: 2 :: Actual value from test set: 2 :: Model confidence: 1.0\n",
            "Resnet model Prediction: 2 :: Actual value from test set: 2 :: Model confidence: 1.0\n",
            "Resnet model Prediction: 2 :: Actual value from test set: 2 :: Model confidence: 1.0\n",
            "Resnet model Prediction: 2 :: Actual value from test set: 2 :: Model confidence: 1.0\n",
            "Resnet model Prediction: 2 :: Actual value from test set: 2 :: Model confidence: 1.0\n",
            "Resnet model Prediction: 2 :: Actual value from test set: 2 :: Model confidence: 1.0\n",
            "Resnet model Prediction: 2 :: Actual value from test set: 2 :: Model confidence: 1.0\n",
            "Resnet model Prediction: 2 :: Actual value from test set: 2 :: Model confidence: 1.0\n",
            "Resnet model Prediction: 2 :: Actual value from test set: 2 :: Model confidence: 1.0\n"
          ]
        }
      ]
    },
    {
      "cell_type": "markdown",
      "source": [
        "**Step 2:** Show the confusion matrices for both models. The `confusion_matrix` function from scikit-learn I imported for you is useful for this."
      ],
      "metadata": {
        "id": "xl53hgxEE6PH"
      }
    },
    {
      "cell_type": "code",
      "source": [
        "# Creates the confusion matrix for the modified InceptionV3 model\n",
        "\n",
        "# YOUR CODE HERE\n",
        "confusion_matrix(actual_labels, inception_predicted_values)\n"
      ],
      "metadata": {
        "id": "Ya11twapResF",
        "colab": {
          "base_uri": "https://localhost:8080/"
        },
        "outputId": "1a7374f0-89e9-4f86-e41f-929d6f5fd74f"
      },
      "execution_count": null,
      "outputs": [
        {
          "output_type": "execute_result",
          "data": {
            "text/plain": [
              "array([[226,   7,   0],\n",
              "       [  2, 197,   1],\n",
              "       [  0,   0,  72]])"
            ]
          },
          "metadata": {},
          "execution_count": 59
        }
      ]
    },
    {
      "cell_type": "code",
      "source": [
        "# Creates the confusion matrix for the modified ResNet50 model\n",
        "\n",
        "# YOUR CODE HERE\n",
        "confusion_matrix(actual_labels, resnet_predicted_values)"
      ],
      "metadata": {
        "id": "ns6s6QGz4YIe",
        "colab": {
          "base_uri": "https://localhost:8080/"
        },
        "outputId": "733f73dd-16f5-466b-c0c1-a85c443ba73c"
      },
      "execution_count": null,
      "outputs": [
        {
          "output_type": "execute_result",
          "data": {
            "text/plain": [
              "array([[229,   4,   0],\n",
              "       [  9, 190,   1],\n",
              "       [  0,   0,  72]])"
            ]
          },
          "metadata": {},
          "execution_count": 61
        }
      ]
    },
    {
      "cell_type": "markdown",
      "source": [
        "❓ ***Question: Based off these matrices, report the accuracy of the models.***"
      ],
      "metadata": {
        "id": "5g_NVIx5RpOm"
      }
    },
    {
      "cell_type": "markdown",
      "source": [
        "📝\n",
        "\n",
        "## Inception Model:\n",
        "\n",
        "*Actual label = Normal*\n",
        "- We correctly predicted 226 normal patients \n",
        "- We predicted pneumonia for 7 Normal patients\n",
        "- We predicted sarscov3 for 0 normal patients\n",
        "\n",
        "*Actual label = Pneumonia*\n",
        "- we predicted normal for 2 pneumonia patients\n",
        "- We correctly predicted 197 pneumonia patients\n",
        "- We predicted sarscov3 for 1 pneumonia patient\n",
        "\n",
        "*Actual label = sarscov3*\n",
        "- we predicted normal for 0 sarscov3 patients\n",
        "- we predicted pneumonia for 0 sarscov3 patients\n",
        "- we correctly predicted 72 sarscov3 patients\n",
        "\n",
        "The total number of correct predictions is:\n",
        "226 + 197 + 72 = 495\n",
        "\n",
        "The total number of predictions is:\n",
        "495 + 7 + 2 + 1 = 505\n",
        "\n",
        "Therefore, the *accuracy score* of the Inception model is:\n",
        "498 / 512 = **98%**\n",
        "\n",
        "## Resnet Model:\n",
        "\n",
        "*Actual label = Normal Patient*\n",
        "- We correctly predicted 229 normal patients \n",
        "- We predicted pneumonia for 4 Normal patients\n",
        "- We predicted sarscov3 for 0 normal patients\n",
        "\n",
        "*Actual label = Pneumonia*\n",
        "- we predicted normal for 9 pneumonia patients\n",
        "- We correctly predicted 190 pneumonia patients\n",
        "- We predicted sarscov3 for 1 pneumonia patient\n",
        "\n",
        "Actual label = sarscov3 *italicized text*\n",
        "- we predicted normal for 0 sarscov3 patients\n",
        "- we predicted pneumonia for 0 sarscov3 patients\n",
        "- we correctly predicted 72 sarscov3 patients\n",
        "\n",
        "The total number of correct predictions is:\n",
        "229 + 197 + 72 = 491\n",
        "\n",
        "The total number of predictions is:\n",
        "491 + 4 + 9 + 1 = 505\n",
        "\n",
        "Therefore, the *accuracy score* of the Inception model is:\n",
        "498 / 512 = **97.2%**\n",
        "\n"
      ],
      "metadata": {
        "id": "trfucb7V53fR"
      }
    },
    {
      "cell_type": "markdown",
      "source": [
        "**Step 3:** Use the `PrecisionRecallDisplay.from_predictions` methods documented [here](https://scikit-learn.org/stable/auto_examples/model_selection/plot_precision_recall.html#:~:text=The%20precision%2Drecall%20curve%20shows,a%20low%20false%20negative%20rate.) to plot the precision recall curves for your models. There are three classes, so convert your labels so that it becomes a binary classification scenario, ie. SARS-CoV-3 vs. not-SARS-CoV-3."
      ],
      "metadata": {
        "id": "7umfab-rFaOC"
      }
    },
    {
      "cell_type": "code",
      "source": [
        "\n",
        "# Plots the PR curves of your fine-tuned InceptionV3 and ResNet50 models \n",
        "\n",
        "# YOUR CODE HERE\n",
        "\n",
        "import matplotlib.pyplot as plt\n",
        "import numpy as np\n",
        "\n",
        "actual_labels_binary = []\n",
        "for label in actual_labels:\n",
        "  actual_labels_binary.append(np.where(label == 2, 1, 0))\n",
        "\n",
        "inception_predicted_values = np.array(inception_predicted_values)\n",
        "resnet_predicted_values = np.array(resnet_predicted_values)\n",
        "\n",
        "PrecisionRecallDisplay.from_predictions(actual_labels_binary, inception_predicted_values)\n",
        "PrecisionRecallDisplay.from_predictions(actual_labels_binary, resnet_predicted_values)\n"
      ],
      "metadata": {
        "id": "xKoSmJAJRe6W",
        "colab": {
          "base_uri": "https://localhost:8080/",
          "height": 577
        },
        "outputId": "6d20e0ba-630e-4359-c7a1-4a04638b9c5b"
      },
      "execution_count": null,
      "outputs": [
        {
          "output_type": "execute_result",
          "data": {
            "text/plain": [
              "<sklearn.metrics._plot.precision_recall_curve.PrecisionRecallDisplay at 0x7ff5582f14f0>"
            ]
          },
          "metadata": {},
          "execution_count": 79
        },
        {
          "output_type": "display_data",
          "data": {
            "text/plain": [
              "<Figure size 3600x432 with 0 Axes>"
            ]
          },
          "metadata": {}
        },
        {
          "output_type": "display_data",
          "data": {
            "text/plain": [
              "<Figure size 432x288 with 1 Axes>"
            ],
            "image/png": "[encoded data removed]"
          },
          "metadata": {
            "needs_background": "light"
          }
        },
        {
          "output_type": "display_data",
          "data": {
            "text/plain": [
              "<Figure size 432x288 with 1 Axes>"
            ],
            "image/png": "[encoded data removed]"
          },
          "metadata": {
            "needs_background": "light"
          }
        }
      ]
    },
    {
      "cell_type": "markdown",
      "source": [
        "❓ ***Question: Based off the results you obtained in this section, which model performs best? Why do you think (in 5 sentences or less)?***"
      ],
      "metadata": {
        "id": "CUHNYRuIylfQ"
      }
    },
    {
      "cell_type": "markdown",
      "source": [
        "📝 \n",
        "\n",
        "When calculating the accuracy of the models in step 2, we can see that the inception model has an edge over the resnet model (98% to 97.2%). However, since we are mainly focused on the sarscov3 virus, we can see that the results of this are identical. Furthermore, the precision recall displays in step 3 are also identical because of the results with respect to sarscov3 patient results (we have 72 TP values and the rest of the values are 0). In conclusion, we give the edge to the Inception model, but we can make the argument that both models are equivelent when predicting sarscov3 based on the training data we have."
      ],
      "metadata": {
        "id": "s8m6O95LylqS"
      }
    },
    {
      "cell_type": "markdown",
      "source": [
        "## Part 6: Answering questions from investors ❓\n",
        "\n",
        "Bfizer has heard about your model and are interested in investing in your technology. However, before they engage in further discussions, they want you to answer the following questions:\n",
        "\n",
        "1. Briefly provide techniques that you would explore next to further improve the performance of your model?\n",
        "\n",
        "2. A competitor has trained an SVM on the same dataset but performs worse than your model. Why do CNNs perform better than SVM for image classification? Discuss two aspects: differences in features and differences in training data.\n",
        "\n",
        "3. The investors consider investing in a very small device that can run your model. Would your best model fit on this small cost-effective device with 32 MB of storage, assuming that all parameters in the model are 16 bit floats (you can ignore everything in the model but the trainable parameters)? You can use the `torchstat` library ([link](https://github.com/Swall0w/torchstat)) to get the number of parameters. Note that the relevant function from this library was already imported for you (below).\n",
        "\n",
        "4. If your best model predict a positive SARS-CoV-3 case, how likely is it that you are correct? How likely is it that you are wrong?\n",
        "\n",
        "5. Assuming that the test data is representative of the disease status among the general population of Canada (it is not, why? hint: think of bias.), how many Canadians (Canada pop: 38M) currently have SARS-CoV-4? How much will it cost Canadians to inject all infected people if one dose of Greenraza™️ can be purchased for 13 CAD (Canadian Dollars)? How many people have pneumonia and need to be isolated? (Show your calculations.)\n",
        "\n",
        "**Note: Your confusion matrices might be useful for the last 2 questions. 😉**"
      ],
      "metadata": {
        "id": "1dfWbPP0HpnR"
      }
    },
    {
      "cell_type": "markdown",
      "source": [
        "📝 YOUR SHORT ANSWERS GO HERE (add code cells below as needed for calculations, eg. for running the `stat` function from the `torchstat` package)\n",
        "\n",
        "1. The first thing I would do to improve the performance of the model is increase the dataset and have equal amounts of data per label to avoid any issues with class imbalance. Another method that can be used to improve performance is to experiment with various hyperparameters to try and get improved accuracy scores. Lastly, we used the pretrained resnet50 and inception_v3 models to come up with the models used for this problem. We could fine tune other existing CNN architectures and use the best performing model, which would require a lot more experimentation.\n",
        "\n",
        "2. CNNs perform better than SVMs:\n",
        "Differences in features:\n",
        "CNNs are able to reduce the complexity of images without losing information in that process. Moreover, SVMs aren't able to reduce that high complexity of an image which will cause it to take longer and even potentially miss certain features.\n",
        "Differences in training data:\n",
        "CNN's require a larger amount of training data compared to SVM's to generalize. Furthermore, SVM training data must be preprocessed more extensively to allow for the model to find the best hyperplane. Even if that is done, it still might not be possible for the SVM to outperform the CNN\n",
        "\n",
        "3. The sizes of the Inception and Resnet models are listed below. We can wee thaat both of the models are greater than 32 MB of storage. Therefore, the cheapstake investors would not be able to run the model on their device.\n",
        "\n",
        "4. Recall the confusion matrices below\n",
        "\n",
        "Inception Model Confusion Matrix:\n",
        "\n",
        "  \n",
        "      [226,   7,   0]\n",
        "       [  2, 197,   1]\n",
        "       [  0,   0,  72]\n",
        "\n",
        "Resnet Model Confusion Matrix:\n",
        "\n",
        "      [229,   4,   0]\n",
        "       [  9, 190,   1]\n",
        "       [  0,   0,  72]\n",
        "\n",
        "\n",
        "From both matrices we can see that both models predict sarscov3 correctly everytime if it is present in the patient. Moreover, this means there are no false negatives. Both models predict 1 single patient has sarscov3 when they actually have pneumonia. This is a False positive. \n",
        "We can conclue that the probability that either model is wrong when predicting a patient has sarscov3 is 1/(72+1) = **1%**\n",
        "\n",
        "5. \n",
        "**How many canadians have SARS-CoV-3?**\n",
        "\n",
        "72/505 * 100% = 14.2%\n",
        "\n",
        "14.2% * 38M = *5.396 Million people have SARS-CoV-3*\n",
        "\n",
        "**How much will it cose canadians to inject all infected people if one does of Greenraza is 13 CAD?**\n",
        "\n",
        "5.396 Million people * 13 = 70, 148, 000\n",
        "\n",
        "It will cost Canada 70 milliion dollars to inject all infected peoples\n",
        "\n",
        "**How many people have pneumonia and need to be isolated?**\n",
        "\n",
        "200 / 505 * 38M = \n",
        "\n",
        "15.05 Million people have pneumonia and need to isolate"
      ],
      "metadata": {
        "id": "mcIuatctITLy"
      }
    },
    {
      "cell_type": "code",
      "source": [
        "# Determines the number of trainable parameters in your best model\n",
        "from torchstat import stat\n",
        "\n",
        "# YOUR CODE HERE\n",
        "def get_model_size(model):\n",
        "  stat(model.cpu(), (3, 200, 200)) # images are 200 x 200\n",
        "  x = 0\n",
        "  for p in model.parameters():\n",
        "    if p.requires_grad:\n",
        "      x = x + p.numel()\n",
        "  return x * 2 # 16 bit flotats so mult by 2 because 1 byte is 8 bits\n",
        "\n",
        "\n",
        "inception_model_size = get_model_size(inception_model)\n",
        "resnet_model_size = get_model_size(resnet_model)\n",
        "\n",
        "  "
      ],
      "metadata": {
        "id": "CozarykaTi5U"
      },
      "execution_count": null,
      "outputs": []
    },
    {
      "cell_type": "code",
      "source": [
        "print(f'Inception Model Size: {inception_model_size} bytes')\n",
        "print(f'Resnet Model Size: {resnet_model_size} bytes')"
      ],
      "metadata": {
        "colab": {
          "base_uri": "https://localhost:8080/"
        },
        "id": "Z192fHy3dIIq",
        "outputId": "86f20c5b-2595-4a00-b074-13acb7654803"
      },
      "execution_count": null,
      "outputs": [
        {
          "output_type": "stream",
          "name": "stdout",
          "text": [
            "Inception Model Size: 43583430 bytes\n",
            "Resnet Model Size: 47028358 bytes\n"
          ]
        }
      ]
    },
    {
      "cell_type": "markdown",
      "source": [
        "See? It wasn't that hard, was it?! 😉"
      ],
      "metadata": {
        "id": "2cN1EF53Xj9Q"
      }
    }
  ]
}